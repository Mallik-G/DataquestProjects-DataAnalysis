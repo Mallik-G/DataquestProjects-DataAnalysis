{
 "cells": [
  {
   "cell_type": "markdown",
   "metadata": {
    "collapsed": true
   },
   "source": [
    "# Investigating Fandango Movie Ratings - Are They Still a Sham?\n",
    "## Introduction\n",
    "You probably already didn't trust movie rating sites, right? That's common in 2018. But in October 2015, Walt Hickey from FiveThirtyEight published a popular article in which he presented strong evidence that Fandango was clearly being biased and dishonest. Fandango has since said that this was due to a bug and the problem was fixed.\n",
    "\n",
    "Hickey collected data from Fandango's HTML and compared it to the dispalyed ratings, and Fandango has since removed the ability to see the ratings in HTML. Hmmm. In this project we see if they actually fixed the movie rating discrepency, or simply just shoved things under the rug."
   ]
  },
  {
   "cell_type": "markdown",
   "metadata": {},
   "source": [
    "## Understanding the Data\n",
    "An easy way (and a good way) to figure this out is to use Hickey's analysis and compare it to a subset of movie ratings (all sites) after Fandango's announcment. Here, we use a file of movie ratings from 2016-2017 on their site. Both of these data sources are available on github. We explore these datasets here:"
   ]
  },
  {
   "cell_type": "code",
   "execution_count": 1,
   "metadata": {
    "collapsed": false
   },
   "outputs": [],
   "source": [
    "import pandas as pd\n",
    "pd.options.display.max_columns = 100  # This avoids having displays truncated in output\n",
    "before = pd.read_csv('fandango_score_comparison.csv')  # we get these from the csv files within the folder\n",
    "after = pd.read_csv('movie_ratings_16_17.csv')"
   ]
  },
  {
   "cell_type": "code",
   "execution_count": 2,
   "metadata": {
    "collapsed": false
   },
   "outputs": [
    {
     "data": {
      "text/html": [
       "<div>\n",
       "<style scoped>\n",
       "    .dataframe tbody tr th:only-of-type {\n",
       "        vertical-align: middle;\n",
       "    }\n",
       "\n",
       "    .dataframe tbody tr th {\n",
       "        vertical-align: top;\n",
       "    }\n",
       "\n",
       "    .dataframe thead th {\n",
       "        text-align: right;\n",
       "    }\n",
       "</style>\n",
       "<table border=\"1\" class=\"dataframe\">\n",
       "  <thead>\n",
       "    <tr style=\"text-align: right;\">\n",
       "      <th></th>\n",
       "      <th>FILM</th>\n",
       "      <th>RottenTomatoes</th>\n",
       "      <th>RottenTomatoes_User</th>\n",
       "      <th>Metacritic</th>\n",
       "      <th>Metacritic_User</th>\n",
       "      <th>IMDB</th>\n",
       "      <th>Fandango_Stars</th>\n",
       "      <th>Fandango_Ratingvalue</th>\n",
       "      <th>RT_norm</th>\n",
       "      <th>RT_user_norm</th>\n",
       "      <th>Metacritic_norm</th>\n",
       "      <th>Metacritic_user_nom</th>\n",
       "      <th>IMDB_norm</th>\n",
       "      <th>RT_norm_round</th>\n",
       "      <th>RT_user_norm_round</th>\n",
       "      <th>Metacritic_norm_round</th>\n",
       "      <th>Metacritic_user_norm_round</th>\n",
       "      <th>IMDB_norm_round</th>\n",
       "      <th>Metacritic_user_vote_count</th>\n",
       "      <th>IMDB_user_vote_count</th>\n",
       "      <th>Fandango_votes</th>\n",
       "      <th>Fandango_Difference</th>\n",
       "    </tr>\n",
       "  </thead>\n",
       "  <tbody>\n",
       "    <tr>\n",
       "      <th>0</th>\n",
       "      <td>Avengers: Age of Ultron (2015)</td>\n",
       "      <td>74</td>\n",
       "      <td>86</td>\n",
       "      <td>66</td>\n",
       "      <td>7.1</td>\n",
       "      <td>7.8</td>\n",
       "      <td>5.0</td>\n",
       "      <td>4.5</td>\n",
       "      <td>3.70</td>\n",
       "      <td>4.3</td>\n",
       "      <td>3.30</td>\n",
       "      <td>3.55</td>\n",
       "      <td>3.90</td>\n",
       "      <td>3.5</td>\n",
       "      <td>4.5</td>\n",
       "      <td>3.5</td>\n",
       "      <td>3.5</td>\n",
       "      <td>4.0</td>\n",
       "      <td>1330</td>\n",
       "      <td>271107</td>\n",
       "      <td>14846</td>\n",
       "      <td>0.5</td>\n",
       "    </tr>\n",
       "    <tr>\n",
       "      <th>1</th>\n",
       "      <td>Cinderella (2015)</td>\n",
       "      <td>85</td>\n",
       "      <td>80</td>\n",
       "      <td>67</td>\n",
       "      <td>7.5</td>\n",
       "      <td>7.1</td>\n",
       "      <td>5.0</td>\n",
       "      <td>4.5</td>\n",
       "      <td>4.25</td>\n",
       "      <td>4.0</td>\n",
       "      <td>3.35</td>\n",
       "      <td>3.75</td>\n",
       "      <td>3.55</td>\n",
       "      <td>4.5</td>\n",
       "      <td>4.0</td>\n",
       "      <td>3.5</td>\n",
       "      <td>4.0</td>\n",
       "      <td>3.5</td>\n",
       "      <td>249</td>\n",
       "      <td>65709</td>\n",
       "      <td>12640</td>\n",
       "      <td>0.5</td>\n",
       "    </tr>\n",
       "    <tr>\n",
       "      <th>2</th>\n",
       "      <td>Ant-Man (2015)</td>\n",
       "      <td>80</td>\n",
       "      <td>90</td>\n",
       "      <td>64</td>\n",
       "      <td>8.1</td>\n",
       "      <td>7.8</td>\n",
       "      <td>5.0</td>\n",
       "      <td>4.5</td>\n",
       "      <td>4.00</td>\n",
       "      <td>4.5</td>\n",
       "      <td>3.20</td>\n",
       "      <td>4.05</td>\n",
       "      <td>3.90</td>\n",
       "      <td>4.0</td>\n",
       "      <td>4.5</td>\n",
       "      <td>3.0</td>\n",
       "      <td>4.0</td>\n",
       "      <td>4.0</td>\n",
       "      <td>627</td>\n",
       "      <td>103660</td>\n",
       "      <td>12055</td>\n",
       "      <td>0.5</td>\n",
       "    </tr>\n",
       "    <tr>\n",
       "      <th>3</th>\n",
       "      <td>Do You Believe? (2015)</td>\n",
       "      <td>18</td>\n",
       "      <td>84</td>\n",
       "      <td>22</td>\n",
       "      <td>4.7</td>\n",
       "      <td>5.4</td>\n",
       "      <td>5.0</td>\n",
       "      <td>4.5</td>\n",
       "      <td>0.90</td>\n",
       "      <td>4.2</td>\n",
       "      <td>1.10</td>\n",
       "      <td>2.35</td>\n",
       "      <td>2.70</td>\n",
       "      <td>1.0</td>\n",
       "      <td>4.0</td>\n",
       "      <td>1.0</td>\n",
       "      <td>2.5</td>\n",
       "      <td>2.5</td>\n",
       "      <td>31</td>\n",
       "      <td>3136</td>\n",
       "      <td>1793</td>\n",
       "      <td>0.5</td>\n",
       "    </tr>\n",
       "    <tr>\n",
       "      <th>4</th>\n",
       "      <td>Hot Tub Time Machine 2 (2015)</td>\n",
       "      <td>14</td>\n",
       "      <td>28</td>\n",
       "      <td>29</td>\n",
       "      <td>3.4</td>\n",
       "      <td>5.1</td>\n",
       "      <td>3.5</td>\n",
       "      <td>3.0</td>\n",
       "      <td>0.70</td>\n",
       "      <td>1.4</td>\n",
       "      <td>1.45</td>\n",
       "      <td>1.70</td>\n",
       "      <td>2.55</td>\n",
       "      <td>0.5</td>\n",
       "      <td>1.5</td>\n",
       "      <td>1.5</td>\n",
       "      <td>1.5</td>\n",
       "      <td>2.5</td>\n",
       "      <td>88</td>\n",
       "      <td>19560</td>\n",
       "      <td>1021</td>\n",
       "      <td>0.5</td>\n",
       "    </tr>\n",
       "  </tbody>\n",
       "</table>\n",
       "</div>"
      ],
      "text/plain": [
       "                             FILM  RottenTomatoes  RottenTomatoes_User  \\\n",
       "0  Avengers: Age of Ultron (2015)              74                   86   \n",
       "1               Cinderella (2015)              85                   80   \n",
       "2                  Ant-Man (2015)              80                   90   \n",
       "3          Do You Believe? (2015)              18                   84   \n",
       "4   Hot Tub Time Machine 2 (2015)              14                   28   \n",
       "\n",
       "   Metacritic  Metacritic_User  IMDB  Fandango_Stars  Fandango_Ratingvalue  \\\n",
       "0          66              7.1   7.8             5.0                   4.5   \n",
       "1          67              7.5   7.1             5.0                   4.5   \n",
       "2          64              8.1   7.8             5.0                   4.5   \n",
       "3          22              4.7   5.4             5.0                   4.5   \n",
       "4          29              3.4   5.1             3.5                   3.0   \n",
       "\n",
       "   RT_norm  RT_user_norm  Metacritic_norm  Metacritic_user_nom  IMDB_norm  \\\n",
       "0     3.70           4.3             3.30                 3.55       3.90   \n",
       "1     4.25           4.0             3.35                 3.75       3.55   \n",
       "2     4.00           4.5             3.20                 4.05       3.90   \n",
       "3     0.90           4.2             1.10                 2.35       2.70   \n",
       "4     0.70           1.4             1.45                 1.70       2.55   \n",
       "\n",
       "   RT_norm_round  RT_user_norm_round  Metacritic_norm_round  \\\n",
       "0            3.5                 4.5                    3.5   \n",
       "1            4.5                 4.0                    3.5   \n",
       "2            4.0                 4.5                    3.0   \n",
       "3            1.0                 4.0                    1.0   \n",
       "4            0.5                 1.5                    1.5   \n",
       "\n",
       "   Metacritic_user_norm_round  IMDB_norm_round  Metacritic_user_vote_count  \\\n",
       "0                         3.5              4.0                        1330   \n",
       "1                         4.0              3.5                         249   \n",
       "2                         4.0              4.0                         627   \n",
       "3                         2.5              2.5                          31   \n",
       "4                         1.5              2.5                          88   \n",
       "\n",
       "   IMDB_user_vote_count  Fandango_votes  Fandango_Difference  \n",
       "0                271107           14846                  0.5  \n",
       "1                 65709           12640                  0.5  \n",
       "2                103660           12055                  0.5  \n",
       "3                  3136            1793                  0.5  \n",
       "4                 19560            1021                  0.5  "
      ]
     },
     "execution_count": 2,
     "metadata": {},
     "output_type": "execute_result"
    }
   ],
   "source": [
    "before.head()"
   ]
  },
  {
   "cell_type": "code",
   "execution_count": 3,
   "metadata": {
    "collapsed": false
   },
   "outputs": [
    {
     "data": {
      "text/html": [
       "<div>\n",
       "<style scoped>\n",
       "    .dataframe tbody tr th:only-of-type {\n",
       "        vertical-align: middle;\n",
       "    }\n",
       "\n",
       "    .dataframe tbody tr th {\n",
       "        vertical-align: top;\n",
       "    }\n",
       "\n",
       "    .dataframe thead th {\n",
       "        text-align: right;\n",
       "    }\n",
       "</style>\n",
       "<table border=\"1\" class=\"dataframe\">\n",
       "  <thead>\n",
       "    <tr style=\"text-align: right;\">\n",
       "      <th></th>\n",
       "      <th>movie</th>\n",
       "      <th>year</th>\n",
       "      <th>metascore</th>\n",
       "      <th>imdb</th>\n",
       "      <th>tmeter</th>\n",
       "      <th>audience</th>\n",
       "      <th>fandango</th>\n",
       "      <th>n_metascore</th>\n",
       "      <th>n_imdb</th>\n",
       "      <th>n_tmeter</th>\n",
       "      <th>n_audience</th>\n",
       "      <th>nr_metascore</th>\n",
       "      <th>nr_imdb</th>\n",
       "      <th>nr_tmeter</th>\n",
       "      <th>nr_audience</th>\n",
       "    </tr>\n",
       "  </thead>\n",
       "  <tbody>\n",
       "    <tr>\n",
       "      <th>0</th>\n",
       "      <td>10 Cloverfield Lane</td>\n",
       "      <td>2016</td>\n",
       "      <td>76</td>\n",
       "      <td>7.2</td>\n",
       "      <td>90</td>\n",
       "      <td>79</td>\n",
       "      <td>3.5</td>\n",
       "      <td>3.80</td>\n",
       "      <td>3.60</td>\n",
       "      <td>4.50</td>\n",
       "      <td>3.95</td>\n",
       "      <td>4.0</td>\n",
       "      <td>3.5</td>\n",
       "      <td>4.5</td>\n",
       "      <td>4.0</td>\n",
       "    </tr>\n",
       "    <tr>\n",
       "      <th>1</th>\n",
       "      <td>13 Hours</td>\n",
       "      <td>2016</td>\n",
       "      <td>48</td>\n",
       "      <td>7.3</td>\n",
       "      <td>50</td>\n",
       "      <td>83</td>\n",
       "      <td>4.5</td>\n",
       "      <td>2.40</td>\n",
       "      <td>3.65</td>\n",
       "      <td>2.50</td>\n",
       "      <td>4.15</td>\n",
       "      <td>2.5</td>\n",
       "      <td>3.5</td>\n",
       "      <td>2.5</td>\n",
       "      <td>4.0</td>\n",
       "    </tr>\n",
       "    <tr>\n",
       "      <th>2</th>\n",
       "      <td>A Cure for Wellness</td>\n",
       "      <td>2016</td>\n",
       "      <td>47</td>\n",
       "      <td>6.6</td>\n",
       "      <td>40</td>\n",
       "      <td>47</td>\n",
       "      <td>3.0</td>\n",
       "      <td>2.35</td>\n",
       "      <td>3.30</td>\n",
       "      <td>2.00</td>\n",
       "      <td>2.35</td>\n",
       "      <td>2.5</td>\n",
       "      <td>3.5</td>\n",
       "      <td>2.0</td>\n",
       "      <td>2.5</td>\n",
       "    </tr>\n",
       "    <tr>\n",
       "      <th>3</th>\n",
       "      <td>A Dog's Purpose</td>\n",
       "      <td>2017</td>\n",
       "      <td>43</td>\n",
       "      <td>5.2</td>\n",
       "      <td>33</td>\n",
       "      <td>76</td>\n",
       "      <td>4.5</td>\n",
       "      <td>2.15</td>\n",
       "      <td>2.60</td>\n",
       "      <td>1.65</td>\n",
       "      <td>3.80</td>\n",
       "      <td>2.0</td>\n",
       "      <td>2.5</td>\n",
       "      <td>1.5</td>\n",
       "      <td>4.0</td>\n",
       "    </tr>\n",
       "    <tr>\n",
       "      <th>4</th>\n",
       "      <td>A Hologram for the King</td>\n",
       "      <td>2016</td>\n",
       "      <td>58</td>\n",
       "      <td>6.1</td>\n",
       "      <td>70</td>\n",
       "      <td>57</td>\n",
       "      <td>3.0</td>\n",
       "      <td>2.90</td>\n",
       "      <td>3.05</td>\n",
       "      <td>3.50</td>\n",
       "      <td>2.85</td>\n",
       "      <td>3.0</td>\n",
       "      <td>3.0</td>\n",
       "      <td>3.5</td>\n",
       "      <td>3.0</td>\n",
       "    </tr>\n",
       "  </tbody>\n",
       "</table>\n",
       "</div>"
      ],
      "text/plain": [
       "                     movie  year  metascore  imdb  tmeter  audience  fandango  \\\n",
       "0      10 Cloverfield Lane  2016         76   7.2      90        79       3.5   \n",
       "1                 13 Hours  2016         48   7.3      50        83       4.5   \n",
       "2      A Cure for Wellness  2016         47   6.6      40        47       3.0   \n",
       "3          A Dog's Purpose  2017         43   5.2      33        76       4.5   \n",
       "4  A Hologram for the King  2016         58   6.1      70        57       3.0   \n",
       "\n",
       "   n_metascore  n_imdb  n_tmeter  n_audience  nr_metascore  nr_imdb  \\\n",
       "0         3.80    3.60      4.50        3.95           4.0      3.5   \n",
       "1         2.40    3.65      2.50        4.15           2.5      3.5   \n",
       "2         2.35    3.30      2.00        2.35           2.5      3.5   \n",
       "3         2.15    2.60      1.65        3.80           2.0      2.5   \n",
       "4         2.90    3.05      3.50        2.85           3.0      3.0   \n",
       "\n",
       "   nr_tmeter  nr_audience  \n",
       "0        4.5          4.0  \n",
       "1        2.5          4.0  \n",
       "2        2.0          2.5  \n",
       "3        1.5          4.0  \n",
       "4        3.5          3.0  "
      ]
     },
     "execution_count": 3,
     "metadata": {},
     "output_type": "execute_result"
    }
   ],
   "source": [
    "after.head()"
   ]
  },
  {
   "cell_type": "markdown",
   "metadata": {},
   "source": [
    "We have all the columns now, but select only the ones that make sense to our analysis. Note: It is important to make copies to avoid any SettingWithCopyWarning as we go on."
   ]
  },
  {
   "cell_type": "code",
   "execution_count": 4,
   "metadata": {
    "collapsed": true
   },
   "outputs": [],
   "source": [
    "fandango_before = before[['FILM', 'Fandango_Stars', 'Fandango_Ratingvalue', 'Fandango_votes',\n",
    "                             'Fandango_Difference']].copy()  # avoids SettingWithCopyWarnings\n",
    "fandango_after = after[['movie', 'year', 'fandango']].copy()"
   ]
  },
  {
   "cell_type": "code",
   "execution_count": 5,
   "metadata": {
    "collapsed": false
   },
   "outputs": [
    {
     "data": {
      "text/html": [
       "<div>\n",
       "<style scoped>\n",
       "    .dataframe tbody tr th:only-of-type {\n",
       "        vertical-align: middle;\n",
       "    }\n",
       "\n",
       "    .dataframe tbody tr th {\n",
       "        vertical-align: top;\n",
       "    }\n",
       "\n",
       "    .dataframe thead th {\n",
       "        text-align: right;\n",
       "    }\n",
       "</style>\n",
       "<table border=\"1\" class=\"dataframe\">\n",
       "  <thead>\n",
       "    <tr style=\"text-align: right;\">\n",
       "      <th></th>\n",
       "      <th>FILM</th>\n",
       "      <th>Fandango_Stars</th>\n",
       "      <th>Fandango_Ratingvalue</th>\n",
       "      <th>Fandango_votes</th>\n",
       "      <th>Fandango_Difference</th>\n",
       "    </tr>\n",
       "  </thead>\n",
       "  <tbody>\n",
       "    <tr>\n",
       "      <th>0</th>\n",
       "      <td>Avengers: Age of Ultron (2015)</td>\n",
       "      <td>5.0</td>\n",
       "      <td>4.5</td>\n",
       "      <td>14846</td>\n",
       "      <td>0.5</td>\n",
       "    </tr>\n",
       "    <tr>\n",
       "      <th>1</th>\n",
       "      <td>Cinderella (2015)</td>\n",
       "      <td>5.0</td>\n",
       "      <td>4.5</td>\n",
       "      <td>12640</td>\n",
       "      <td>0.5</td>\n",
       "    </tr>\n",
       "    <tr>\n",
       "      <th>2</th>\n",
       "      <td>Ant-Man (2015)</td>\n",
       "      <td>5.0</td>\n",
       "      <td>4.5</td>\n",
       "      <td>12055</td>\n",
       "      <td>0.5</td>\n",
       "    </tr>\n",
       "    <tr>\n",
       "      <th>3</th>\n",
       "      <td>Do You Believe? (2015)</td>\n",
       "      <td>5.0</td>\n",
       "      <td>4.5</td>\n",
       "      <td>1793</td>\n",
       "      <td>0.5</td>\n",
       "    </tr>\n",
       "    <tr>\n",
       "      <th>4</th>\n",
       "      <td>Hot Tub Time Machine 2 (2015)</td>\n",
       "      <td>3.5</td>\n",
       "      <td>3.0</td>\n",
       "      <td>1021</td>\n",
       "      <td>0.5</td>\n",
       "    </tr>\n",
       "  </tbody>\n",
       "</table>\n",
       "</div>"
      ],
      "text/plain": [
       "                             FILM  Fandango_Stars  Fandango_Ratingvalue  \\\n",
       "0  Avengers: Age of Ultron (2015)             5.0                   4.5   \n",
       "1               Cinderella (2015)             5.0                   4.5   \n",
       "2                  Ant-Man (2015)             5.0                   4.5   \n",
       "3          Do You Believe? (2015)             5.0                   4.5   \n",
       "4   Hot Tub Time Machine 2 (2015)             3.5                   3.0   \n",
       "\n",
       "   Fandango_votes  Fandango_Difference  \n",
       "0           14846                  0.5  \n",
       "1           12640                  0.5  \n",
       "2           12055                  0.5  \n",
       "3            1793                  0.5  \n",
       "4            1021                  0.5  "
      ]
     },
     "execution_count": 5,
     "metadata": {},
     "output_type": "execute_result"
    }
   ],
   "source": [
    "fandango_before.head()"
   ]
  },
  {
   "cell_type": "code",
   "execution_count": 6,
   "metadata": {
    "collapsed": false
   },
   "outputs": [
    {
     "data": {
      "text/html": [
       "<div>\n",
       "<style scoped>\n",
       "    .dataframe tbody tr th:only-of-type {\n",
       "        vertical-align: middle;\n",
       "    }\n",
       "\n",
       "    .dataframe tbody tr th {\n",
       "        vertical-align: top;\n",
       "    }\n",
       "\n",
       "    .dataframe thead th {\n",
       "        text-align: right;\n",
       "    }\n",
       "</style>\n",
       "<table border=\"1\" class=\"dataframe\">\n",
       "  <thead>\n",
       "    <tr style=\"text-align: right;\">\n",
       "      <th></th>\n",
       "      <th>movie</th>\n",
       "      <th>year</th>\n",
       "      <th>fandango</th>\n",
       "    </tr>\n",
       "  </thead>\n",
       "  <tbody>\n",
       "    <tr>\n",
       "      <th>0</th>\n",
       "      <td>10 Cloverfield Lane</td>\n",
       "      <td>2016</td>\n",
       "      <td>3.5</td>\n",
       "    </tr>\n",
       "    <tr>\n",
       "      <th>1</th>\n",
       "      <td>13 Hours</td>\n",
       "      <td>2016</td>\n",
       "      <td>4.5</td>\n",
       "    </tr>\n",
       "    <tr>\n",
       "      <th>2</th>\n",
       "      <td>A Cure for Wellness</td>\n",
       "      <td>2016</td>\n",
       "      <td>3.0</td>\n",
       "    </tr>\n",
       "    <tr>\n",
       "      <th>3</th>\n",
       "      <td>A Dog's Purpose</td>\n",
       "      <td>2017</td>\n",
       "      <td>4.5</td>\n",
       "    </tr>\n",
       "    <tr>\n",
       "      <th>4</th>\n",
       "      <td>A Hologram for the King</td>\n",
       "      <td>2016</td>\n",
       "      <td>3.0</td>\n",
       "    </tr>\n",
       "  </tbody>\n",
       "</table>\n",
       "</div>"
      ],
      "text/plain": [
       "                     movie  year  fandango\n",
       "0      10 Cloverfield Lane  2016       3.5\n",
       "1                 13 Hours  2016       4.5\n",
       "2      A Cure for Wellness  2016       3.0\n",
       "3          A Dog's Purpose  2017       4.5\n",
       "4  A Hologram for the King  2016       3.0"
      ]
     },
     "execution_count": 6,
     "metadata": {},
     "output_type": "execute_result"
    }
   ],
   "source": [
    "fandango_after.head()"
   ]
  },
  {
   "cell_type": "markdown",
   "metadata": {},
   "source": [
    "The goal is to determine whether or not there has been any change in Fandango's ratings after Hickey's analysis. Using this goal, the popular of it for our analysis would be all ratings on Fandango's website, regardless of year.\n",
    "\n",
    "From this population, we create two samples - one from before Hickey's analysis, and one from after - and compare these two separate states.\n",
    "\n",
    "Our two datasets are indeed samples of of these two states that we want, but we need to make sure that they actually describe and are representative of the population, otherwise we will have a large sampling error, and ultimately, the wrong conclusions. \n",
    "\n",
    "From Hickey's article and repo on Github, we see that this was the criteria for his sampling:\n",
    "* The movie must have had at least 30 fan ratings on Fandango's website at the time of sampling (Aug. 24, 2015).\n",
    "* The movie must have had tickets on sale in 2015.\n",
    "\n",
    "This sampling creates some concern because it is clearly not random. Not every movie had the same chance to be included (some didn't have a chance at all), and this raises some questions of validity. It seems like movies that are most likely to be included in this sample are ones that would be especially good or especially bad (ones that fans actually take the time to rate) - something that we call temporal trends.\n",
    "\n",
    "Turning to the sampling conditions in the other dataset (taken from the DQ Github), we see that this was the criteria for sampling:\n",
    "* The movie must have been released in 2016 or later.\n",
    "* The movie must have had a considerable number of votes and reviews (unclear how many).\n",
    "\n",
    "Just like Hickey's criteria, this sample would also be subject to temporal trends and unlikely to be representative of the whole population.\n",
    "\n",
    "It seems like both Hickey and DQ used their sampling to fit onto a certain research question that they had in mind - something we call purposive sampling. This creates clouded judgement, and biased results in some cases. While these samples were 'good enough' for their own questions, it doesn't really help with answering ours. Oops! Looks like we're set back."
   ]
  },
  {
   "cell_type": "markdown",
   "metadata": {},
   "source": [
    "## Changing the Approach\n",
    "At this point, wehave two options. One is to start from scratch and collect new data. Two is to change the goal of our analysis a little bit by making some adustments to the current data and putting some limitations on it. \n",
    "\n",
    "In general, option two is usually the way to go. Trying to find the perfect data source is only going to break your back most times, and abandoning all of your work thus far is only a waste of time! In a few rare cases it is necessary, but in our case, changing the approach works better. It will be next to impossible to find another reliable data source about Fandango's ratings before Hickey's analysis anyway, as it is not like there is an archive somewhere.\n",
    "\n",
    "Instead of trying to determine whether there has been any change in Fandango's system after Hickey's analysis, the new goal will be, after some 'limitations', to determine whether there has been any difference between Fandango's ratings for popular movies in 2015 and Fandango's ratings for popular movies in 2016. While not completely representing Fandango's entire population, it is a good proxy."
   ]
  },
  {
   "cell_type": "markdown",
   "metadata": {},
   "source": [
    "## \"Creating\" New Samples\n",
    "With our new goal, we have two populations:\n",
    "* All Fandango's ratings for popular movies released in 2015.\n",
    "* All Fandango's ratings for popular movies released in 2016.\n",
    "\n",
    "But what is 'popular'? No one really knows, so we'll use what Hickey used: a floor of 30 fan ratings will count a movie as being popular. It is important to set this criteria out. \n",
    "\n",
    "However, our sample is movies in 2016 does not contain fan ratings! Are they really representative? A quick way to judge this is to just sample 10 movies from the set, and manually check ourselves their fan ratings. A good indicator would be probably 9 out of the 10 movies having over 30 fan ratings. (Note: It is important to say that in no way is this a perfect way to test representativeness. In fact, in a professional research setting this would probably be frowned upon. For the purposes of our research question though, it is more than likely that this would be enough to answer our question.)"
   ]
  },
  {
   "cell_type": "code",
   "execution_count": 7,
   "metadata": {
    "collapsed": false
   },
   "outputs": [
    {
     "data": {
      "text/html": [
       "<div>\n",
       "<style scoped>\n",
       "    .dataframe tbody tr th:only-of-type {\n",
       "        vertical-align: middle;\n",
       "    }\n",
       "\n",
       "    .dataframe tbody tr th {\n",
       "        vertical-align: top;\n",
       "    }\n",
       "\n",
       "    .dataframe thead th {\n",
       "        text-align: right;\n",
       "    }\n",
       "</style>\n",
       "<table border=\"1\" class=\"dataframe\">\n",
       "  <thead>\n",
       "    <tr style=\"text-align: right;\">\n",
       "      <th></th>\n",
       "      <th>movie</th>\n",
       "      <th>year</th>\n",
       "      <th>fandango</th>\n",
       "    </tr>\n",
       "  </thead>\n",
       "  <tbody>\n",
       "    <tr>\n",
       "      <th>108</th>\n",
       "      <td>Mechanic: Resurrection</td>\n",
       "      <td>2016</td>\n",
       "      <td>4.0</td>\n",
       "    </tr>\n",
       "    <tr>\n",
       "      <th>206</th>\n",
       "      <td>Warcraft</td>\n",
       "      <td>2016</td>\n",
       "      <td>4.0</td>\n",
       "    </tr>\n",
       "    <tr>\n",
       "      <th>106</th>\n",
       "      <td>Max Steel</td>\n",
       "      <td>2016</td>\n",
       "      <td>3.5</td>\n",
       "    </tr>\n",
       "    <tr>\n",
       "      <th>107</th>\n",
       "      <td>Me Before You</td>\n",
       "      <td>2016</td>\n",
       "      <td>4.5</td>\n",
       "    </tr>\n",
       "    <tr>\n",
       "      <th>51</th>\n",
       "      <td>Fantastic Beasts and Where to Find Them</td>\n",
       "      <td>2016</td>\n",
       "      <td>4.5</td>\n",
       "    </tr>\n",
       "    <tr>\n",
       "      <th>33</th>\n",
       "      <td>Cell</td>\n",
       "      <td>2016</td>\n",
       "      <td>3.0</td>\n",
       "    </tr>\n",
       "    <tr>\n",
       "      <th>59</th>\n",
       "      <td>Genius</td>\n",
       "      <td>2016</td>\n",
       "      <td>3.5</td>\n",
       "    </tr>\n",
       "    <tr>\n",
       "      <th>152</th>\n",
       "      <td>Sully</td>\n",
       "      <td>2016</td>\n",
       "      <td>4.5</td>\n",
       "    </tr>\n",
       "    <tr>\n",
       "      <th>4</th>\n",
       "      <td>A Hologram for the King</td>\n",
       "      <td>2016</td>\n",
       "      <td>3.0</td>\n",
       "    </tr>\n",
       "    <tr>\n",
       "      <th>31</th>\n",
       "      <td>Captain America: Civil War</td>\n",
       "      <td>2016</td>\n",
       "      <td>4.5</td>\n",
       "    </tr>\n",
       "  </tbody>\n",
       "</table>\n",
       "</div>"
      ],
      "text/plain": [
       "                                       movie  year  fandango\n",
       "108                   Mechanic: Resurrection  2016       4.0\n",
       "206                                 Warcraft  2016       4.0\n",
       "106                                Max Steel  2016       3.5\n",
       "107                            Me Before You  2016       4.5\n",
       "51   Fantastic Beasts and Where to Find Them  2016       4.5\n",
       "33                                      Cell  2016       3.0\n",
       "59                                    Genius  2016       3.5\n",
       "152                                    Sully  2016       4.5\n",
       "4                    A Hologram for the King  2016       3.0\n",
       "31                Captain America: Civil War  2016       4.5"
      ]
     },
     "execution_count": 7,
     "metadata": {},
     "output_type": "execute_result"
    }
   ],
   "source": [
    "fandango_after.sample(10, random_state = 1)  # useful to use random states as described below"
   ]
  },
  {
   "cell_type": "markdown",
   "metadata": {},
   "source": [
    "Above we used a value of 1 as the random seed. This is good practice because it suggests that we weren't trying out various random seeds just to get a favorable sample. Actually, read that sentence again because it is very important. \n",
    "\n",
    "Now, as of 2018, the fan ratings we found were:\n",
    "* Mechanic: Resurrection  ---  2247\n",
    "* Warcraft  ---  7271\n",
    "* Max Steel  ---  493\n",
    "* Me Before You  ---  5263\n",
    "* Fantastic Beasts and Where to Find Them  ---  13400\n",
    "* Cell  ---  17\n",
    "* Genius  ---  127\n",
    "* Sully  ---  11877\n",
    "* A Hologram for the King  ---  500\n",
    "* Captain America: Civil War  ---  35057\n",
    "\n",
    "We see that clearly 9 out of 10 of them, or 90%, fulfill the popular criteria. This is enough to move forward with confidence, as the ones who were popular also broke the 30 rating floor by a LOT too."
   ]
  },
  {
   "cell_type": "markdown",
   "metadata": {},
   "source": [
    "We can also double check the other dataset while we're at it. This is quick:"
   ]
  },
  {
   "cell_type": "code",
   "execution_count": 8,
   "metadata": {
    "collapsed": false
   },
   "outputs": [
    {
     "data": {
      "text/plain": [
       "0"
      ]
     },
     "execution_count": 8,
     "metadata": {},
     "output_type": "execute_result"
    }
   ],
   "source": [
    "sum(fandango_before[\"Fandango_votes\"] < 30)"
   ]
  },
  {
   "cell_type": "markdown",
   "metadata": {},
   "source": [
    "Now that we validates, we isolate the datasets into ones that can answer our question with confidence. We need to isolate the movies in the year 2015, and 2016, and use these new isolated datasets moving forward. We can get the year from Hickey's analysis by parsing the 'FILM' column."
   ]
  },
  {
   "cell_type": "code",
   "execution_count": 9,
   "metadata": {
    "collapsed": false
   },
   "outputs": [
    {
     "data": {
      "text/html": [
       "<div>\n",
       "<style scoped>\n",
       "    .dataframe tbody tr th:only-of-type {\n",
       "        vertical-align: middle;\n",
       "    }\n",
       "\n",
       "    .dataframe tbody tr th {\n",
       "        vertical-align: top;\n",
       "    }\n",
       "\n",
       "    .dataframe thead th {\n",
       "        text-align: right;\n",
       "    }\n",
       "</style>\n",
       "<table border=\"1\" class=\"dataframe\">\n",
       "  <thead>\n",
       "    <tr style=\"text-align: right;\">\n",
       "      <th></th>\n",
       "      <th>FILM</th>\n",
       "      <th>Fandango_Stars</th>\n",
       "      <th>Fandango_Ratingvalue</th>\n",
       "      <th>Fandango_votes</th>\n",
       "      <th>Fandango_Difference</th>\n",
       "    </tr>\n",
       "  </thead>\n",
       "  <tbody>\n",
       "    <tr>\n",
       "      <th>0</th>\n",
       "      <td>Avengers: Age of Ultron (2015)</td>\n",
       "      <td>5.0</td>\n",
       "      <td>4.5</td>\n",
       "      <td>14846</td>\n",
       "      <td>0.5</td>\n",
       "    </tr>\n",
       "    <tr>\n",
       "      <th>1</th>\n",
       "      <td>Cinderella (2015)</td>\n",
       "      <td>5.0</td>\n",
       "      <td>4.5</td>\n",
       "      <td>12640</td>\n",
       "      <td>0.5</td>\n",
       "    </tr>\n",
       "    <tr>\n",
       "      <th>2</th>\n",
       "      <td>Ant-Man (2015)</td>\n",
       "      <td>5.0</td>\n",
       "      <td>4.5</td>\n",
       "      <td>12055</td>\n",
       "      <td>0.5</td>\n",
       "    </tr>\n",
       "    <tr>\n",
       "      <th>3</th>\n",
       "      <td>Do You Believe? (2015)</td>\n",
       "      <td>5.0</td>\n",
       "      <td>4.5</td>\n",
       "      <td>1793</td>\n",
       "      <td>0.5</td>\n",
       "    </tr>\n",
       "    <tr>\n",
       "      <th>4</th>\n",
       "      <td>Hot Tub Time Machine 2 (2015)</td>\n",
       "      <td>3.5</td>\n",
       "      <td>3.0</td>\n",
       "      <td>1021</td>\n",
       "      <td>0.5</td>\n",
       "    </tr>\n",
       "  </tbody>\n",
       "</table>\n",
       "</div>"
      ],
      "text/plain": [
       "                             FILM  Fandango_Stars  Fandango_Ratingvalue  \\\n",
       "0  Avengers: Age of Ultron (2015)             5.0                   4.5   \n",
       "1               Cinderella (2015)             5.0                   4.5   \n",
       "2                  Ant-Man (2015)             5.0                   4.5   \n",
       "3          Do You Believe? (2015)             5.0                   4.5   \n",
       "4   Hot Tub Time Machine 2 (2015)             3.5                   3.0   \n",
       "\n",
       "   Fandango_votes  Fandango_Difference  \n",
       "0           14846                  0.5  \n",
       "1           12640                  0.5  \n",
       "2           12055                  0.5  \n",
       "3            1793                  0.5  \n",
       "4            1021                  0.5  "
      ]
     },
     "execution_count": 9,
     "metadata": {},
     "output_type": "execute_result"
    }
   ],
   "source": [
    "fandango_before.head()"
   ]
  },
  {
   "cell_type": "code",
   "execution_count": 10,
   "metadata": {
    "collapsed": false
   },
   "outputs": [
    {
     "data": {
      "text/plain": [
       "0    2015\n",
       "1    2015\n",
       "2    2015\n",
       "3    2015\n",
       "4    2015\n",
       "Name: Year, dtype: object"
      ]
     },
     "execution_count": 10,
     "metadata": {},
     "output_type": "execute_result"
    }
   ],
   "source": [
    "fandango_before['Year'] = fandango_before['FILM'].str[-5:-1]  # we can get the end of a string in this way\n",
    "fandango_before['Year'].head()"
   ]
  },
  {
   "cell_type": "code",
   "execution_count": 11,
   "metadata": {
    "collapsed": false
   },
   "outputs": [
    {
     "data": {
      "text/plain": [
       "2015    129\n",
       "2014     17\n",
       "Name: Year, dtype: int64"
      ]
     },
     "execution_count": 11,
     "metadata": {},
     "output_type": "execute_result"
    }
   ],
   "source": [
    "fandango_before['Year'].value_counts()"
   ]
  },
  {
   "cell_type": "code",
   "execution_count": 12,
   "metadata": {
    "collapsed": false
   },
   "outputs": [
    {
     "data": {
      "text/plain": [
       "2015    129\n",
       "Name: Year, dtype: int64"
      ]
     },
     "execution_count": 12,
     "metadata": {},
     "output_type": "execute_result"
    }
   ],
   "source": [
    "fandango_2015 = fandango_before[fandango_before['Year'] == '2015'].copy()\n",
    "fandango_2015['Year'].value_counts()"
   ]
  },
  {
   "cell_type": "code",
   "execution_count": 13,
   "metadata": {
    "collapsed": false
   },
   "outputs": [
    {
     "data": {
      "text/html": [
       "<div>\n",
       "<style scoped>\n",
       "    .dataframe tbody tr th:only-of-type {\n",
       "        vertical-align: middle;\n",
       "    }\n",
       "\n",
       "    .dataframe tbody tr th {\n",
       "        vertical-align: top;\n",
       "    }\n",
       "\n",
       "    .dataframe thead th {\n",
       "        text-align: right;\n",
       "    }\n",
       "</style>\n",
       "<table border=\"1\" class=\"dataframe\">\n",
       "  <thead>\n",
       "    <tr style=\"text-align: right;\">\n",
       "      <th></th>\n",
       "      <th>movie</th>\n",
       "      <th>year</th>\n",
       "      <th>fandango</th>\n",
       "    </tr>\n",
       "  </thead>\n",
       "  <tbody>\n",
       "    <tr>\n",
       "      <th>0</th>\n",
       "      <td>10 Cloverfield Lane</td>\n",
       "      <td>2016</td>\n",
       "      <td>3.5</td>\n",
       "    </tr>\n",
       "    <tr>\n",
       "      <th>1</th>\n",
       "      <td>13 Hours</td>\n",
       "      <td>2016</td>\n",
       "      <td>4.5</td>\n",
       "    </tr>\n",
       "    <tr>\n",
       "      <th>2</th>\n",
       "      <td>A Cure for Wellness</td>\n",
       "      <td>2016</td>\n",
       "      <td>3.0</td>\n",
       "    </tr>\n",
       "    <tr>\n",
       "      <th>3</th>\n",
       "      <td>A Dog's Purpose</td>\n",
       "      <td>2017</td>\n",
       "      <td>4.5</td>\n",
       "    </tr>\n",
       "    <tr>\n",
       "      <th>4</th>\n",
       "      <td>A Hologram for the King</td>\n",
       "      <td>2016</td>\n",
       "      <td>3.0</td>\n",
       "    </tr>\n",
       "  </tbody>\n",
       "</table>\n",
       "</div>"
      ],
      "text/plain": [
       "                     movie  year  fandango\n",
       "0      10 Cloverfield Lane  2016       3.5\n",
       "1                 13 Hours  2016       4.5\n",
       "2      A Cure for Wellness  2016       3.0\n",
       "3          A Dog's Purpose  2017       4.5\n",
       "4  A Hologram for the King  2016       3.0"
      ]
     },
     "execution_count": 13,
     "metadata": {},
     "output_type": "execute_result"
    }
   ],
   "source": [
    "fandango_after.head()"
   ]
  },
  {
   "cell_type": "code",
   "execution_count": 14,
   "metadata": {
    "collapsed": false
   },
   "outputs": [
    {
     "data": {
      "text/plain": [
       "2016    191\n",
       "Name: year, dtype: int64"
      ]
     },
     "execution_count": 14,
     "metadata": {},
     "output_type": "execute_result"
    }
   ],
   "source": [
    "fandango_2016 = fandango_after[fandango_after['year'] == 2016].copy()\n",
    "fandango_2016['year'].value_counts()"
   ]
  },
  {
   "cell_type": "markdown",
   "metadata": {},
   "source": [
    "## Comparing Distribution Shapes\n",
    "Wow! After all of that preliminary work, we can finally begin some analysis. Finding data and data mangling are often 70% of the work, which must be noted. You don't want to be getting into something you don't expect! \n",
    "\n",
    "Let's finally start the analysis by comparing the higher level data: the shapes of distributions. As an homage to Hickey for providing us with half our data, we can try out matplotlib's fivethirtyeight style for the plots."
   ]
  },
  {
   "cell_type": "code",
   "execution_count": 15,
   "metadata": {
    "collapsed": false
   },
   "outputs": [
    {
     "data": {
      "image/png": "[encoded data removed]",
      "text/plain": [
       "<matplotlib.figure.Figure at 0x7f0dd58eab00>"
      ]
     },
     "metadata": {},
     "output_type": "display_data"
    }
   ],
   "source": [
    "import matplotlib.pyplot as plt\n",
    "import numpy as np\n",
    "%matplotlib inline  \n",
    "# to use inline\n",
    "plt.style.use('fivethirtyeight')  # declare a style to use\n",
    "\n",
    "# first make the graph\n",
    "fandango_2015['Fandango_Stars'].plot.kde(label = '2015', legend = True, figsize = (8,5))  # kernel density plots\n",
    "fandango_2016['fandango'].plot.kde(label = '2016', legend = True)\n",
    "\n",
    "# customize the graph\n",
    "plt.title(\"Comparing Distribution Shapes for Fandango Ratings, 2015 vs 2016\", y = 1.07)  # y is the parameter that pads the title upward\n",
    "plt.xlabel(\"Stars\")\n",
    "plt.ylabel(\"Density\")\n",
    "plt.xlim(0,5)  # 0 to 5 ratings absolute\n",
    "plt.xticks(np.arange(0,5.15))  # 5.1 to include 5 in the plot showing, else it is cut off a bit\n",
    "plt.show()"
   ]
  },
  {
   "cell_type": "markdown",
   "metadata": {},
   "source": [
    "A couple findings:\n",
    "* Both distributions are strongly left skewed.\n",
    "* The 2016 distribution is shfited to the left a bit more than the 2015 distribution.\n",
    "\n",
    "The left skew indicates a bit of bias - after all, a rating system that is truly pure should have a normal distribution - even if every single movie ever made was truly incredible, there HAS to be a worst movie, and that would take the 0 on the scale. Given the fact that Fandango also sells movie tickets for revenue, we could investigate this for conspiracy. However, it is not really relevant to our question, so we keep it on the backburner.\n",
    "\n",
    "The graph does tell a bit of a tale that is of relevance, however: The shift in the 2016 distribution indicates that popular movies in 2016 were indeed rated slightly lower than popular movies in 2015. While this could be due to a number of factors, including the innocent one of popular movies in 2016 were truly worse than poular movies in 2015, it is a step in the right direction and does give Fandango a little credibility in their claim that they \"fixed\" their ratings."
   ]
  },
  {
   "cell_type": "markdown",
   "metadata": {},
   "source": [
    "## Comparing Relative Frequencies\n",
    "While the kernel density plots provided a little bit of insight in 2016 popular movies being rated slightly lower, we now have to dig a little bit deeper into some lower level information in relative frequencies. Because the datasets have different counts, we normalize and use percentages for more accuracy:"
   ]
  },
  {
   "cell_type": "code",
   "execution_count": 16,
   "metadata": {
    "collapsed": false
   },
   "outputs": [
    {
     "name": "stdout",
     "output_type": "stream",
     "text": [
      "2015\n",
      "----------------\n"
     ]
    },
    {
     "data": {
      "text/plain": [
       "3.0     8.527132\n",
       "3.5    17.829457\n",
       "4.0    28.682171\n",
       "4.5    37.984496\n",
       "5.0     6.976744\n",
       "Name: Fandango_Stars, dtype: float64"
      ]
     },
     "execution_count": 16,
     "metadata": {},
     "output_type": "execute_result"
    }
   ],
   "source": [
    "print('2015' + '\\n' + '-' * 16) # To help us distinguish between the two tables immediately and\n",
    "                                # avoid silly mistakes as we read to and from the data\n",
    "fandango_2015['Fandango_Stars'].value_counts(normalize = True).sort_index() * 100"
   ]
  },
  {
   "cell_type": "code",
   "execution_count": 17,
   "metadata": {
    "collapsed": false
   },
   "outputs": [
    {
     "name": "stdout",
     "output_type": "stream",
     "text": [
      "2016\n",
      "----------------\n"
     ]
    },
    {
     "data": {
      "text/plain": [
       "2.5     3.141361\n",
       "3.0     7.329843\n",
       "3.5    24.083770\n",
       "4.0    40.314136\n",
       "4.5    24.607330\n",
       "5.0     0.523560\n",
       "Name: fandango, dtype: float64"
      ]
     },
     "execution_count": 17,
     "metadata": {},
     "output_type": "execute_result"
    }
   ],
   "source": [
    "print('2016' + '\\n' + '-' * 16) # To help us distinguish between the two tables immediately and\n",
    "                                # avoid silly mistakes as we read to and from the data\n",
    "fandango_2016['fandango'].value_counts(normalize = True).sort_index() * 100"
   ]
  },
  {
   "cell_type": "markdown",
   "metadata": {},
   "source": [
    "From our tables, we can clearly see to start that ratings of 4.5 and 5.0 were much more frequent in 2015 than 2016, having about 13% and 6% more of all total ratings, respectively. In fact, in 2016, less than 1 percent of all popular movies were rated a 5.0 which is a huge jump from almost 7% in 2015.\n",
    "\n",
    "The minimum rating was also lower in 2016, with some movies being rated a 2.5, whereas in 2015 a 2.5 did not even exist.\n",
    "\n",
    "While this very much confirms the left shift that we saw earlier in the kde plot, it is important to not that it is not a complete left shift. Popular movies in 2016 still received more 3.5 and 4.0 ratings than in 2015, which is still a pretty high rating. Although this could just be due to the fact that since the 4.5 and 5.0 movies were rated less, the rating percentages had to go *somewhere*."
   ]
  },
  {
   "cell_type": "markdown",
   "metadata": {},
   "source": [
    "## Determining the Direction of the Change\n",
    "Getting some summary statistics will bring into light more about the direction of change and make things more precise. "
   ]
  },
  {
   "cell_type": "code",
   "execution_count": 18,
   "metadata": {
    "collapsed": false
   },
   "outputs": [],
   "source": [
    "mean_2015 = fandango_2015['Fandango_Stars'].mean()\n",
    "mean_2016 = fandango_2016['fandango'].mean()\n",
    "\n",
    "median_2015 = fandango_2015['Fandango_Stars'].median()\n",
    "median_2016 = fandango_2016['fandango'].median()\n",
    "\n",
    "mode_2015 = fandango_2015['Fandango_Stars'].mode()[0] # the output of Series.mode() is a bit uncommon\n",
    "mode_2016 = fandango_2016['fandango'].mode()[0]\n",
    "\n",
    "summary = pd.DataFrame()  # make a new dataframe to use in a graph later\n",
    "summary['2015'] = [mean_2015, median_2015, mode_2015]\n",
    "summary['2016'] = [mean_2016, median_2016, mode_2016]\n",
    "summary.index = ['mean', 'median', 'mode']"
   ]
  },
  {
   "cell_type": "code",
   "execution_count": 19,
   "metadata": {
    "collapsed": false
   },
   "outputs": [
    {
     "data": {
      "text/html": [
       "<div>\n",
       "<style scoped>\n",
       "    .dataframe tbody tr th:only-of-type {\n",
       "        vertical-align: middle;\n",
       "    }\n",
       "\n",
       "    .dataframe tbody tr th {\n",
       "        vertical-align: top;\n",
       "    }\n",
       "\n",
       "    .dataframe thead th {\n",
       "        text-align: right;\n",
       "    }\n",
       "</style>\n",
       "<table border=\"1\" class=\"dataframe\">\n",
       "  <thead>\n",
       "    <tr style=\"text-align: right;\">\n",
       "      <th></th>\n",
       "      <th>2015</th>\n",
       "      <th>2016</th>\n",
       "    </tr>\n",
       "  </thead>\n",
       "  <tbody>\n",
       "    <tr>\n",
       "      <th>mean</th>\n",
       "      <td>4.085271</td>\n",
       "      <td>3.887435</td>\n",
       "    </tr>\n",
       "    <tr>\n",
       "      <th>median</th>\n",
       "      <td>4.000000</td>\n",
       "      <td>4.000000</td>\n",
       "    </tr>\n",
       "    <tr>\n",
       "      <th>mode</th>\n",
       "      <td>4.500000</td>\n",
       "      <td>4.000000</td>\n",
       "    </tr>\n",
       "  </tbody>\n",
       "</table>\n",
       "</div>"
      ],
      "text/plain": [
       "            2015      2016\n",
       "mean    4.085271  3.887435\n",
       "median  4.000000  4.000000\n",
       "mode    4.500000  4.000000"
      ]
     },
     "execution_count": 19,
     "metadata": {},
     "output_type": "execute_result"
    }
   ],
   "source": [
    "summary"
   ]
  },
  {
   "cell_type": "code",
   "execution_count": 20,
   "metadata": {
    "collapsed": false
   },
   "outputs": [
    {
     "data": {
      "image/png": "[encoded data removed]",
      "text/plain": [
       "<matplotlib.figure.Figure at 0x7f0dcd166ac8>"
      ]
     },
     "metadata": {},
     "output_type": "display_data"
    }
   ],
   "source": [
    "plt.style.use('fivethirtyeight')  # this was already declared globally, but we use it again here just to show\n",
    "summary['2015'].plot.bar(color = 'Blue', align = 'center', label = '2015', width = .25)  # we can declare colors explicitly like this\n",
    "summary['2016'].plot.bar(color = 'Red', align = 'edge', label = '2016', width = .25, rot = 0, figsize = (8,5))  # edge will make the graph appear as below\n",
    "\n",
    "# customize the graph\n",
    "plt.title('Comparing Summary Statistics: 2015 vs 2016', y = 1.07)\n",
    "plt.ylabel('Stars')\n",
    "plt.ylim(0,5.5)\n",
    "plt.yticks(np.arange(0,5.1,.5))\n",
    "plt.legend(framealpha = 0, loc = 'upper center')  # first parameter implies transparency\n",
    "plt.show()"
   ]
  },
  {
   "cell_type": "markdown",
   "metadata": {},
   "source": [
    "We see mean rating was lower in 2016 with approximately 0.2. This means a drop of almost 5% relative to the mean rating in 2015."
   ]
  },
  {
   "cell_type": "code",
   "execution_count": 21,
   "metadata": {
    "collapsed": false
   },
   "outputs": [
    {
     "data": {
      "text/plain": [
       "0.04842683568951993"
      ]
     },
     "execution_count": 21,
     "metadata": {},
     "output_type": "execute_result"
    }
   ],
   "source": [
    "# look at change in mean\n",
    "mean_drop = (summary.loc['mean'][0] - summary.loc['mean'][1]) / summary.loc['mean'][0]\n",
    "mean_drop"
   ]
  },
  {
   "cell_type": "markdown",
   "metadata": {},
   "source": [
    "While the median is the same for both distributions, the mode is lower in 2016 by 0.5. Coupled with what we saw for the mean, the direction of the change we saw on the kernel density plot is confirmed: on average, popular movies released in 2016 were rated slightly lower than popular movies released in 2015."
   ]
  },
  {
   "cell_type": "markdown",
   "metadata": {},
   "source": [
    "## Further Analysis / Next Steps\n",
    "## Reproducing FiveThirtyEight Style Graphs\n",
    "We had a good start by producing our plots in fivethirtyeight style, but what if we wanted to reproduce them almost completely in the style? There are a couple ways to do that, and we reproduce one of them below:"
   ]
  },
  {
   "cell_type": "code",
   "execution_count": 22,
   "metadata": {
    "collapsed": false
   },
   "outputs": [
    {
     "data": {
      "image/png": "[encoded data removed]",
      "text/plain": [
       "<matplotlib.figure.Figure at 0x7f0dcd166cf8>"
      ]
     },
     "metadata": {},
     "output_type": "display_data"
    }
   ],
   "source": [
    "plt.style.use('fivethirtyeight')  # again, we don't need this; was declared globally\n",
    "\n",
    "# make the graph\n",
    "fandango_2015['Fandango_Stars'].plot.kde(label = '2015', legend = True, figsize = (8,5))\n",
    "fandango_2016['fandango'].plot.kde(label = '2016', legend = True)\n",
    "\n",
    "# customize the graph\n",
    "plt.title(\"Comparing Distribution Shapes for Fandango Ratings, 2015 vs 2016\", y = 1.07)  # y is the parameter that pads the title upward\n",
    "plt.xlabel(\"Stars\")\n",
    "plt.ylabel(\"Density\")\n",
    "plt.xlim(0,5)  # 0 to 5 ratings absolute\n",
    "plt.xticks(np.arange(0,5.15))  # 5.1 to include 5 in the plot showing, else it is cut off a bit\n",
    "plt.show()"
   ]
  },
  {
   "cell_type": "code",
   "execution_count": 23,
   "metadata": {
    "collapsed": false
   },
   "outputs": [
    {
     "data": {
      "image/png": "[encoded data removed]",
      "text/plain": [
       "<matplotlib.figure.Figure at 0x7f0dcd01d7b8>"
      ]
     },
     "metadata": {},
     "output_type": "display_data"
    }
   ],
   "source": [
    "plt.style.use('fivethirtyeight')\n",
    "\n",
    "# make a colors list\n",
    "colors = [(230/255,159/255,0), (86/255,180/255,233/255)]\n",
    "\n",
    "# make the graphs\n",
    "plot = fandango_2015['Fandango_Stars'].plot.kde(label = '2015', legend = False, figsize = (8,5), color = colors[0])\n",
    "plot = fandango_2016['fandango'].plot.kde(label = '2016', legend = False, color = colors[1])\n",
    "\n",
    "# lots of custimization\n",
    "plot.text(x = -.75, y = 1.25, s = 'Comparing Distribution Shapes for Fandango Ratings, 2015 vs 2016',\n",
    "          fontsize = 18, weight = 'bold', alpha = .75)  # weight is for bolding, alpha is transparency\n",
    "plot.text(x = -.75, y = 1.125, s = 'Percentage of all movie ratings in 2016 were rated slightly less than those of 2015, making a\\n case for Fandango\\'s claims',\n",
    "          fontsize = 14, alpha = .85)  # s parameter is always for your text\n",
    "plt.xlabel(\"Stars\")\n",
    "plt.ylabel(\"Density\")\n",
    "plt.xlim(-.1,5)  # start at -.1 to have room for an extra tick line at 0\n",
    "plt.tick_params(axis = 'both', which = 'major', labelsize = 18)  # major axes ticks\n",
    "plt.xticks(np.arange(0,5.1))  # 5.1 to include 5 in the plot showing, else it is cut off a bit\n",
    "plot.set_yticklabels(labels = ['0  ', '20  ', '40  ', '60  ', '80  ', '100%'])  # new labels make it easier to read\n",
    "plot.set_xticklabels(labels = ['',  '*', '**', '***', '****', '*****'])\n",
    "plot.axhline(y = 0, color = 'Black', linewidth = 5, alpha = .7)\n",
    "\n",
    "# signature bar\n",
    "plot.xaxis.label.set_visible(False)\n",
    "plot.text(x = -1.1, y = -.15, s = '    @ahammer3                                                                                                         Source: Dataquest',\n",
    "          fontsize = 14, color = '#f0f0f0', backgroundcolor = 'Grey')  # we can use hex color codes as shown in code\n",
    "\n",
    "# legend \n",
    "plot.text(x = 4.7, y = .7, s = '2015', color = colors[0], weight = 'bold', rotation = -20, backgroundcolor = '#f0f0f0')  # rottate the legend markers as necessary\n",
    "plot.text(x = 3.4, y = .9, s = '2016', color = colors[1], weight = 'bold', rotation = -20, backgroundcolor = '#f0f0f0')\n",
    "plt.show()"
   ]
  },
  {
   "cell_type": "markdown",
   "metadata": {},
   "source": [
    "Wow, what a difference! Can't even tell we're not on the 538 website, can you? All things considered, here is a summary of the changes made in the code to make these things happen:\n",
    "* added a colors list for colorblind friendly colors\n",
    "* removed rectangular bulky legend\n",
    "* removed the .title() method and used .text() for title and subtitle to get full control of x and y coordinates\n",
    "* adjusted xlim ticks to have a vertical line at the start\n",
    "* adjusted tick params at the major axes\n",
    "* set new x and y tick labels for better viewing\n",
    "* bolded the horizontal 0 line for better viewing\n",
    "* set x-axis label to false (can keep it true, it doesn't matter) to add the signature bar below graph\n",
    "* set new legend labels to correspond to each graph next to their respective plots\n",
    "\n",
    "The graphs were given 'plot' axes variables and the changes were made using plot.() for better viewing in the code. Changes made to existing methods were not changed, however.\n",
    "\n",
    "We can make the other plot in this project just like this one with a little bit of effort, but hopefully this sheds some light on the fact that you really don't have to be a professional to produce professional-looking graphs."
   ]
  },
  {
   "cell_type": "markdown",
   "metadata": {},
   "source": [
    "## Stylistical Improvement: Code Comments\n",
    "Commenting is important! In our previous projects, we just left the code as is, but it is important to note that sometimes our audience might not be as technical, or even if they are, might not understand a little bit of what we are trying to do in the code. Syntax is necessary, but semantics are a blessing.\n",
    "\n",
    "*Comment as much as possible without stating the obvious or being redundant*\n",
    "\n",
    "In addition to the code, the whole project itself must be communicated to the audience, so it is important to remember these major parts:\n",
    "* Title\n",
    "* Introduction\n",
    "* Subheadings\n",
    "* Conclusion\n",
    "* Graphs\n",
    "* Code\n",
    "\n",
    "Making these individual parts clear will in turn make the project as a whole clear, and much more readible. The text itself should focus on these things:\n",
    "* Readability\n",
    "* The depth and clarity of your explanations\n",
    "* The flow of the ideas you're writing about\n",
    "* The connection between narrative and code\n",
    "\n",
    "At the current rendition of this project, the code/text is not commented well. In future editions, these things could be improved on and better displayed to the viewer. \n",
    "\n",
    "NOTE: TODO - improve syntax - COMPLETED - as of this edition everything above this cell is commented and styled to meet 'guidelines'."
   ]
  },
  {
   "cell_type": "code",
   "execution_count": 24,
   "metadata": {
    "collapsed": false
   },
   "outputs": [
    {
     "data": {
      "text/plain": [
       "True"
      ]
     },
     "execution_count": 24,
     "metadata": {},
     "output_type": "execute_result"
    }
   ],
   "source": [
    "# change when done\n",
    "\n",
    "commented = True  \n",
    "# commented = False\n",
    "commented"
   ]
  },
  {
   "cell_type": "markdown",
   "metadata": {},
   "source": [
    "## Should I Use Fandango?\n",
    "Throughout this project, we seem to have been very critical of Fandango, but it turns out they might have actually been truthful and fixed (at least somewhat) their rankings from 2015 to 2016. That begs the question though - should you still even use them? We look again at their kde for popular movies:"
   ]
  },
  {
   "cell_type": "code",
   "execution_count": 25,
   "metadata": {
    "collapsed": false
   },
   "outputs": [
    {
     "data": {
      "image/png": "[encoded data removed]",
      "text/plain": [
       "<matplotlib.figure.Figure at 0x7f0dccf5b668>"
      ]
     },
     "metadata": {},
     "output_type": "display_data"
    }
   ],
   "source": [
    "# make a colors list\n",
    "colors = [(230/255,159/255,0), (86/255,180/255,233/255)]\n",
    "\n",
    "# make the graphs\n",
    "plot = fandango_2015['Fandango_Stars'].plot.kde(label = '2015', legend = False, figsize = (8,5), color = colors[0])\n",
    "plot = fandango_2016['fandango'].plot.kde(label = '2016', legend = False, color = colors[1])\n",
    "\n",
    "# lots of custimization\n",
    "plot.text(x = -.75, y = 1.25, s = 'Comparing Distribution Shapes for Fandango Ratings, 2015 vs 2016',\n",
    "          fontsize = 18, weight = 'bold', alpha = .75)  # weight is for bolding, alpha is transparency\n",
    "plot.text(x = -.75, y = 1.125, s = 'Percentage of all movie ratings in 2016 were rated slightly less than those of 2015, making a\\n case for Fandango\\'s claims',\n",
    "          fontsize = 14, alpha = .85)  # s parameter is always for your text\n",
    "plt.xlabel(\"Stars\")\n",
    "plt.ylabel(\"Density\")\n",
    "plt.xlim(-.1,5)  # start at -.1 to have room for an extra tick line at 0\n",
    "plt.tick_params(axis = 'both', which = 'major', labelsize = 18)  # major axes ticks\n",
    "plt.xticks(np.arange(0,5.1))  # 5.1 to include 5 in the plot showing, else it is cut off a bit\n",
    "plot.set_yticklabels(labels = ['0  ', '20  ', '40  ', '60  ', '80  ', '100%'])  # new labels make it easier to read\n",
    "plot.set_xticklabels(labels = ['',  '*', '**', '***', '****', '*****'])\n",
    "plot.axhline(y = 0, color = 'Black', linewidth = 5, alpha = .7)\n",
    "\n",
    "# signature bar\n",
    "plot.xaxis.label.set_visible(False)\n",
    "plot.text(x = -1.1, y = -.15, s = '    @ahammer3                                                                                                         Source: Dataquest',\n",
    "          fontsize = 14, color = '#f0f0f0', backgroundcolor = 'Grey')  # we can use hex color codes as shown in code\n",
    "\n",
    "# legend \n",
    "plot.text(x = 4.7, y = .7, s = '2015', color = colors[0], weight = 'bold', rotation = -20, backgroundcolor = '#f0f0f0')  # rotate the legend markers as necessary\n",
    "plot.text(x = 3.4, y = .9, s = '2016', color = colors[1], weight = 'bold', rotation = -20, backgroundcolor = '#f0f0f0')\n",
    "plt.show()"
   ]
  },
  {
   "cell_type": "markdown",
   "metadata": {},
   "source": [
    "Yes, this is a very simple plot at the end of the day, but the glaring detail here is still the fact that even with the improvement, both plots are painfully left skewed. We want an unbiased movie ratings source, and with Fandango completely neglecting the ratings of 0.0, 0.5, 1.0, etc., although they did improve, for the time being, at least as of 2016, you should not be using them as a source for ratings.\n",
    "\n",
    "We want a normal distribution in any (ok, most) ratings systems in order to be fair. There are dozens of movie rating sites out there, and to be honest, any of them would probably be better than Fandango, as you can't really get any more left skewed than this (to be fair, they are affected a lot by the fact that they also have to sell tickets for revenue).\n",
    "\n",
    "This article touches on this more, and we could also look at ratings from sites not mentioned in the article in our own project in the future if we wish. The TLDR, though, is that a site like Metacritic is much more reliable than Fandango in terms of movie ratings.\n",
    "\n",
    "https://medium.freecodecamp.org/whose-reviews-should-you-trust-imdb-rotten-tomatoes-metacritic-or-fandango-7d1010c6cf19"
   ]
  },
  {
   "cell_type": "markdown",
   "metadata": {},
   "source": [
    "## A Quick Proof\n",
    "To practice some web scraping, we've done a little work below for IMBD and metascore ratings which will all but prove that Fandango, even in 2018, is not to be trusted. First let's just scrape one page, and then multiple pages to see the difference. This can be used for future reference (at least for me)."
   ]
  },
  {
   "cell_type": "code",
   "execution_count": 26,
   "metadata": {
    "collapsed": false
   },
   "outputs": [
    {
     "name": "stdout",
     "output_type": "stream",
     "text": [
      "\n",
      "\n",
      "<!DOCTYPE html>\n",
      "<html\n",
      "    xmlns:og=\"http://ogp.me/ns#\"\n",
      "    xmlns:fb=\"http://www.facebook.com/2008/fbml\">\n",
      "    <head>\n",
      "         \n",
      "        <meta charset=\"utf-8\">\n",
      "        <meta http-equiv=\"X-UA-Compatible\" content=\"IE=edge\">\n",
      "\n",
      "    <meta name=\"apple-itunes-app\" content=\"app-id=342792525, app-argument=imdb:///?src=mdot\">\n",
      "\n",
      "\n",
      "\n",
      "        <script type=\"text/javascript\">var IMDbTimer={starttime: new Date().getTime(),pt:'java'};</script>\n",
      "\n",
      "<script>\n",
      "    if (typeof uet == 'function') {\n",
      "      uet(\"bb\", \"LoadTitle\",\n"
     ]
    }
   ],
   "source": [
    "from requests import get\n",
    "\n",
    "url = 'http://www.imdb.com/search/title?release_date=2018&sort=num_votes,desc&page=1'\n",
    "\n",
    "response = get(url)\n",
    "print(response.text[:500])"
   ]
  },
  {
   "cell_type": "code",
   "execution_count": 27,
   "metadata": {
    "collapsed": false
   },
   "outputs": [
    {
     "data": {
      "text/plain": [
       "bs4.BeautifulSoup"
      ]
     },
     "execution_count": 27,
     "metadata": {},
     "output_type": "execute_result"
    }
   ],
   "source": [
    "from bs4 import BeautifulSoup\n",
    "\n",
    "html_soup = BeautifulSoup(response.text, 'html.parser')\n",
    "type(html_soup)"
   ]
  },
  {
   "cell_type": "code",
   "execution_count": 28,
   "metadata": {
    "collapsed": false
   },
   "outputs": [
    {
     "name": "stdout",
     "output_type": "stream",
     "text": [
      "<class 'bs4.element.ResultSet'>\n",
      "50\n"
     ]
    }
   ],
   "source": [
    "movie_containers = html_soup.find_all('div', class_ = 'lister-item mode-advanced')\n",
    "print(type(movie_containers))\n",
    "print(len(movie_containers))"
   ]
  },
  {
   "cell_type": "code",
   "execution_count": 29,
   "metadata": {
    "collapsed": false,
    "scrolled": true
   },
   "outputs": [
    {
     "data": {
      "text/plain": [
       "<div class=\"lister-item mode-advanced\">\n",
       "<div class=\"lister-top-right\">\n",
       "<div class=\"ribbonize\" data-caller=\"filmosearch\" data-tconst=\"tt4154756\"></div>\n",
       "</div>\n",
       "<div class=\"lister-item-image float-left\">\n",
       "<a href=\"/title/tt4154756/?ref_=adv_li_i\"> <img alt=\"Avengers: Infinity War\" class=\"loadlate\" data-tconst=\"tt4154756\" height=\"98\" loadlate=\"https://m.media-amazon.com/images/M/MV5BMjMxNjY2MDU1OV5BMl5BanBnXkFtZTgwNzY1MTUwNTM@._V1_UX67_CR0,0,67,98_AL_.jpg\" src=\"https://m.media-amazon.com/images/G/01/imdb/images/nopicture/large/film-184890147._CB470041630_.png\" width=\"67\"/>\n",
       "</a> </div>\n",
       "<div class=\"lister-item-content\">\n",
       "<h3 class=\"lister-item-header\">\n",
       "<span class=\"lister-item-index unbold text-primary\">1.</span>\n",
       "<a href=\"/title/tt4154756/?ref_=adv_li_tt\">Avengers: Infinity War</a>\n",
       "<span class=\"lister-item-year text-muted unbold\">(2018)</span>\n",
       "</h3>\n",
       "<p class=\"text-muted \">\n",
       "<span class=\"certificate\">PG-13</span>\n",
       "<span class=\"ghost\">|</span>\n",
       "<span class=\"runtime\">149 min</span>\n",
       "<span class=\"ghost\">|</span>\n",
       "<span class=\"genre\">\n",
       "Action, Adventure, Fantasy            </span>\n",
       "</p>\n",
       "<div class=\"ratings-bar\">\n",
       "<div class=\"inline-block ratings-imdb-rating\" data-value=\"8.5\" name=\"ir\">\n",
       "<span class=\"global-sprite rating-star imdb-rating\"></span>\n",
       "<strong>8.5</strong>\n",
       "</div>\n",
       "<div class=\"inline-block ratings-user-rating\">\n",
       "<span class=\"userRatingValue\" data-tconst=\"tt4154756\" id=\"urv_tt4154756\">\n",
       "<span class=\"global-sprite rating-star no-rating\"></span>\n",
       "<span class=\"rate\" data-no-rating=\"Rate this\" data-value=\"0\" name=\"ur\">Rate this</span>\n",
       "</span>\n",
       "<div class=\"starBarWidget\" id=\"sb_tt4154756\">\n",
       "<div class=\"rating rating-list\" data-auth=\"\" data-ga-identifier=\"\" data-starbar-class=\"rating-list\" data-user=\"\" id=\"tt4154756|imdb|8.5|8.5|||search|title\" itemprop=\"aggregateRating\" itemscope=\"\" itemtype=\"http://schema.org/AggregateRating\" title=\"Users rated this 8.5/10 (532,653 votes) - click stars to rate\">\n",
       "<meta content=\"8.5\" itemprop=\"ratingValue\"/>\n",
       "<meta content=\"10\" itemprop=\"bestRating\"/>\n",
       "<meta content=\"532653\" itemprop=\"ratingCount\"/>\n",
       "<span class=\"rating-bg\"> </span>\n",
       "<span class=\"rating-imdb \" style=\"width: 119px\"> </span>\n",
       "<span class=\"rating-stars\">\n",
       "<a href=\"/register/login?why=vote&amp;ref_=tt_ov_rt\" rel=\"nofollow\" title=\"Register or login to rate this title\"><span>1</span></a>\n",
       "<a href=\"/register/login?why=vote&amp;ref_=tt_ov_rt\" rel=\"nofollow\" title=\"Register or login to rate this title\"><span>2</span></a>\n",
       "<a href=\"/register/login?why=vote&amp;ref_=tt_ov_rt\" rel=\"nofollow\" title=\"Register or login to rate this title\"><span>3</span></a>\n",
       "<a href=\"/register/login?why=vote&amp;ref_=tt_ov_rt\" rel=\"nofollow\" title=\"Register or login to rate this title\"><span>4</span></a>\n",
       "<a href=\"/register/login?why=vote&amp;ref_=tt_ov_rt\" rel=\"nofollow\" title=\"Register or login to rate this title\"><span>5</span></a>\n",
       "<a href=\"/register/login?why=vote&amp;ref_=tt_ov_rt\" rel=\"nofollow\" title=\"Register or login to rate this title\"><span>6</span></a>\n",
       "<a href=\"/register/login?why=vote&amp;ref_=tt_ov_rt\" rel=\"nofollow\" title=\"Register or login to rate this title\"><span>7</span></a>\n",
       "<a href=\"/register/login?why=vote&amp;ref_=tt_ov_rt\" rel=\"nofollow\" title=\"Register or login to rate this title\"><span>8</span></a>\n",
       "<a href=\"/register/login?why=vote&amp;ref_=tt_ov_rt\" rel=\"nofollow\" title=\"Register or login to rate this title\"><span>9</span></a>\n",
       "<a href=\"/register/login?why=vote&amp;ref_=tt_ov_rt\" rel=\"nofollow\" title=\"Register or login to rate this title\"><span>10</span></a>\n",
       "</span>\n",
       "<span class=\"rating-rating \"><span class=\"value\">8.5</span><span class=\"grey\">/</span><span class=\"grey\">10</span></span>\n",
       "<span class=\"rating-cancel \"><a href=\"/title/tt4154756/vote?v=X;k=\" rel=\"nofollow\" title=\"Delete\"><span>X</span></a></span>\n",
       " </div>\n",
       "</div>\n",
       "</div>\n",
       "<div class=\"inline-block ratings-metascore\">\n",
       "<span class=\"metascore favorable\">68        </span>\n",
       "        Metascore\n",
       "            </div>\n",
       "</div>\n",
       "<p class=\"text-muted\">\n",
       "    The Avengers and their allies must be willing to sacrifice all in an attempt to defeat the powerful Thanos before his blitz of devastation and ruin puts an end to the universe.</p>\n",
       "<p class=\"\">\n",
       "    Directors:\n",
       "<a href=\"/name/nm0751577/?ref_=adv_li_dr_0\">Anthony Russo</a>, \n",
       "<a href=\"/name/nm0751648/?ref_=adv_li_dr_1\">Joe Russo</a>\n",
       "<span class=\"ghost\">|</span> \n",
       "    Stars:\n",
       "<a href=\"/name/nm0000375/?ref_=adv_li_st_0\">Robert Downey Jr.</a>, \n",
       "<a href=\"/name/nm1165110/?ref_=adv_li_st_1\">Chris Hemsworth</a>, \n",
       "<a href=\"/name/nm0749263/?ref_=adv_li_st_2\">Mark Ruffalo</a>, \n",
       "<a href=\"/name/nm0262635/?ref_=adv_li_st_3\">Chris Evans</a>\n",
       "</p>\n",
       "<p class=\"sort-num_votes-visible\">\n",
       "<span class=\"text-muted\">Votes:</span>\n",
       "<span data-value=\"532653\" name=\"nv\">532,653</span>\n",
       "<span class=\"ghost\">|</span> <span class=\"text-muted\">Gross:</span>\n",
       "<span data-value=\"678,815,482\" name=\"nv\">$678.82M</span>\n",
       "</p>\n",
       "</div>\n",
       "</div>"
      ]
     },
     "execution_count": 29,
     "metadata": {},
     "output_type": "execute_result"
    }
   ],
   "source": [
    "first_movie = movie_containers[0]\n",
    "first_movie"
   ]
  },
  {
   "cell_type": "code",
   "execution_count": 30,
   "metadata": {
    "collapsed": true
   },
   "outputs": [],
   "source": [
    "# Lists to store the scraped data in\n",
    "names = []\n",
    "years = []\n",
    "imdb_ratings = []\n",
    "metascores = []\n",
    "votes = []\n",
    "\n",
    "# Extract data from individual movie container\n",
    "for container in movie_containers:\n",
    "\n",
    "    # If the movie has Metascore, then extract:\n",
    "    if container.find('div', class_ = 'ratings-metascore') is not None:\n",
    "\n",
    "        # The name\n",
    "        name = container.h3.a.text\n",
    "        names.append(name)\n",
    "\n",
    "        # The year\n",
    "        year = container.h3.find('span', class_ = 'lister-item-year').text\n",
    "        years.append(year)\n",
    "\n",
    "        # The IMDB rating\n",
    "        imdb = float(container.strong.text)\n",
    "        imdb_ratings.append(imdb)\n",
    "\n",
    "        # The Metascore\n",
    "        m_score = container.find('span', class_ = 'metascore').text\n",
    "        metascores.append(int(m_score))\n",
    "\n",
    "        # The number of votes\n",
    "        vote = container.find('span', attrs = {'name':'nv'})['data-value']\n",
    "        votes.append(int(vote))"
   ]
  },
  {
   "cell_type": "code",
   "execution_count": 31,
   "metadata": {
    "collapsed": true
   },
   "outputs": [],
   "source": [
    "# make a df\n",
    "imbd = pd.DataFrame({'movie': names,\n",
    "                       'year': years,\n",
    "                       'imdb': imdb_ratings,\n",
    "                       'metascore': metascores,\n",
    "                       'votes': votes})"
   ]
  },
  {
   "cell_type": "code",
   "execution_count": null,
   "metadata": {
    "collapsed": false
   },
   "outputs": [],
   "source": [
    "imbd"
   ]
  },
  {
   "cell_type": "markdown",
   "metadata": {},
   "source": [
    "Success! Now onto multiple pages, which will require a bit more work, and a few more functions, but in the end, we should get what we need:\n",
    "\n",
    "Note: pass this headers in for when english needs to be translated in parsing maybe other websites - headers = {\"Accept-Language\": \"en-US, en;q=0.5\"}"
   ]
  },
  {
   "cell_type": "code",
   "execution_count": 33,
   "metadata": {
    "collapsed": true
   },
   "outputs": [],
   "source": [
    "# prepare some loops\n",
    "pages = [str(i) for i in range(1,5)]\n",
    "years_url = [str(i) for i in range(2001,2019)]\n",
    "headers = {\"Accept-Language\": \"en-US, en;q=0.5\"}"
   ]
  },
  {
   "cell_type": "code",
   "execution_count": 34,
   "metadata": {
    "collapsed": true
   },
   "outputs": [],
   "source": [
    "# to control the crawl rate and monitor the loop\n",
    "from time import sleep\n",
    "from random import randint\n",
    "from time import time\n",
    "from IPython.core.display import clear_output\n",
    "from warnings import warn"
   ]
  },
  {
   "cell_type": "code",
   "execution_count": null,
   "metadata": {
    "collapsed": false
   },
   "outputs": [
    {
     "name": "stdout",
     "output_type": "stream",
     "text": [
      "Request:72; Frequency: 0.08001689856625621 requests/s\n"
     ]
    }
   ],
   "source": [
    "# Redeclaring the lists to store data in\n",
    "names = []\n",
    "years = []\n",
    "imdb_ratings = []\n",
    "metascores = []\n",
    "votes = []\n",
    "\n",
    "# Preparing the monitoring of the loop\n",
    "start_time = time()\n",
    "requests = 0\n",
    "\n",
    "# For every year in the interval 2001-2018\n",
    "for year_url in years_url:\n",
    "\n",
    "    # For every page in the interval 1-4\n",
    "    for page in pages:\n",
    "\n",
    "        # Make a get request\n",
    "        response = get('http://www.imdb.com/search/title?release_date=' + year_url + \n",
    "        '&sort=num_votes,desc&page=' + page, headers = headers)\n",
    "\n",
    "        # Pause the loop\n",
    "        sleep(randint(8,15))\n",
    "\n",
    "        # Monitor the requests\n",
    "        requests += 1\n",
    "        elapsed_time = time() - start_time\n",
    "        print('Request:{}; Frequency: {} requests/s'.format(requests, requests/elapsed_time))\n",
    "        clear_output(wait = True)\n",
    "\n",
    "        # Throw a warning for non-200 status codes\n",
    "        if response.status_code != 200:\n",
    "            warn('Request: {}; Status code: {}'.format(requests, response.status_code))\n",
    "\n",
    "        # Break the loop if the number of requests is greater than expected\n",
    "        if requests > 72:\n",
    "            warn('Number of requests was greater than expected.')  \n",
    "            break \n",
    "\n",
    "        # Parse the content of the request with BeautifulSoup\n",
    "        page_html = BeautifulSoup(response.text, 'html.parser')\n",
    "\n",
    "        # Select all the 50 movie containers from a single page\n",
    "        mv_containers = page_html.find_all('div', class_ = 'lister-item mode-advanced')\n",
    "\n",
    "        # For every movie of these 50\n",
    "        for container in mv_containers:\n",
    "            # If the movie has a Metascore, then:\n",
    "            if container.find('div', class_ = 'ratings-metascore') is not None:\n",
    "\n",
    "                # Scrape the name\n",
    "                name = container.h3.a.text\n",
    "                names.append(name)\n",
    "\n",
    "                # Scrape the year \n",
    "                year = container.h3.find('span', class_ = 'lister-item-year').text\n",
    "                years.append(year)\n",
    "\n",
    "                # Scrape the IMDB rating\n",
    "                imdb = float(container.strong.text)\n",
    "                imdb_ratings.append(imdb)\n",
    "\n",
    "                # Scrape the Metascore\n",
    "                m_score = container.find('span', class_ = 'metascore').text\n",
    "                metascores.append(int(m_score))\n",
    "\n",
    "                # Scrape the number of votes\n",
    "                vote = container.find('span', attrs = {'name':'nv'})['data-value']\n",
    "                votes.append(int(vote))"
   ]
  },
  {
   "cell_type": "markdown",
   "metadata": {},
   "source": [
    "Note that this script takes about 15-20 minutes to run. Data isn't lightspeed!\n",
    "To know when to continue: Requests should end at 72 with no errors."
   ]
  },
  {
   "cell_type": "code",
   "execution_count": 37,
   "metadata": {
    "collapsed": false
   },
   "outputs": [
    {
     "name": "stdout",
     "output_type": "stream",
     "text": [
      "<class 'pandas.core.frame.DataFrame'>\n",
      "RangeIndex: 3284 entries, 0 to 3283\n",
      "Data columns (total 5 columns):\n",
      "imdb         3284 non-null float64\n",
      "metascore    3284 non-null int64\n",
      "movie        3284 non-null object\n",
      "votes        3284 non-null int64\n",
      "year         3284 non-null object\n",
      "dtypes: float64(1), int64(2), object(2)\n",
      "memory usage: 128.4+ KB\n",
      "None\n"
     ]
    },
    {
     "data": {
      "text/html": [
       "<div>\n",
       "<style scoped>\n",
       "    .dataframe tbody tr th:only-of-type {\n",
       "        vertical-align: middle;\n",
       "    }\n",
       "\n",
       "    .dataframe tbody tr th {\n",
       "        vertical-align: top;\n",
       "    }\n",
       "\n",
       "    .dataframe thead th {\n",
       "        text-align: right;\n",
       "    }\n",
       "</style>\n",
       "<table border=\"1\" class=\"dataframe\">\n",
       "  <thead>\n",
       "    <tr style=\"text-align: right;\">\n",
       "      <th></th>\n",
       "      <th>imdb</th>\n",
       "      <th>metascore</th>\n",
       "      <th>movie</th>\n",
       "      <th>votes</th>\n",
       "      <th>year</th>\n",
       "    </tr>\n",
       "  </thead>\n",
       "  <tbody>\n",
       "    <tr>\n",
       "      <th>0</th>\n",
       "      <td>8.8</td>\n",
       "      <td>92</td>\n",
       "      <td>The Lord of the Rings: The Fellowship of the Ring</td>\n",
       "      <td>1456431</td>\n",
       "      <td>(2001)</td>\n",
       "    </tr>\n",
       "    <tr>\n",
       "      <th>1</th>\n",
       "      <td>8.2</td>\n",
       "      <td>72</td>\n",
       "      <td>A Beautiful Mind</td>\n",
       "      <td>745073</td>\n",
       "      <td>(2001)</td>\n",
       "    </tr>\n",
       "    <tr>\n",
       "      <th>2</th>\n",
       "      <td>8.1</td>\n",
       "      <td>78</td>\n",
       "      <td>Monsters, Inc.</td>\n",
       "      <td>712553</td>\n",
       "      <td>(2001)</td>\n",
       "    </tr>\n",
       "    <tr>\n",
       "      <th>3</th>\n",
       "      <td>8.1</td>\n",
       "      <td>88</td>\n",
       "      <td>Donnie Darko</td>\n",
       "      <td>681140</td>\n",
       "      <td>(2001)</td>\n",
       "    </tr>\n",
       "    <tr>\n",
       "      <th>4</th>\n",
       "      <td>8.3</td>\n",
       "      <td>69</td>\n",
       "      <td>Amélie</td>\n",
       "      <td>633316</td>\n",
       "      <td>(2001)</td>\n",
       "    </tr>\n",
       "    <tr>\n",
       "      <th>5</th>\n",
       "      <td>7.6</td>\n",
       "      <td>64</td>\n",
       "      <td>Harry Potter and the Sorcerer's Stone</td>\n",
       "      <td>547172</td>\n",
       "      <td>(2001)</td>\n",
       "    </tr>\n",
       "    <tr>\n",
       "      <th>6</th>\n",
       "      <td>7.9</td>\n",
       "      <td>84</td>\n",
       "      <td>Shrek</td>\n",
       "      <td>541542</td>\n",
       "      <td>(2001)</td>\n",
       "    </tr>\n",
       "    <tr>\n",
       "      <th>7</th>\n",
       "      <td>8.6</td>\n",
       "      <td>96</td>\n",
       "      <td>Spirited Away</td>\n",
       "      <td>532765</td>\n",
       "      <td>(2001)</td>\n",
       "    </tr>\n",
       "    <tr>\n",
       "      <th>8</th>\n",
       "      <td>7.8</td>\n",
       "      <td>74</td>\n",
       "      <td>Ocean's Eleven</td>\n",
       "      <td>462974</td>\n",
       "      <td>(2001)</td>\n",
       "    </tr>\n",
       "    <tr>\n",
       "      <th>9</th>\n",
       "      <td>7.7</td>\n",
       "      <td>69</td>\n",
       "      <td>Training Day</td>\n",
       "      <td>347742</td>\n",
       "      <td>(2001)</td>\n",
       "    </tr>\n",
       "  </tbody>\n",
       "</table>\n",
       "</div>"
      ],
      "text/plain": [
       "   imdb  metascore                                              movie  \\\n",
       "0   8.8         92  The Lord of the Rings: The Fellowship of the Ring   \n",
       "1   8.2         72                                   A Beautiful Mind   \n",
       "2   8.1         78                                     Monsters, Inc.   \n",
       "3   8.1         88                                       Donnie Darko   \n",
       "4   8.3         69                                             Amélie   \n",
       "5   7.6         64              Harry Potter and the Sorcerer's Stone   \n",
       "6   7.9         84                                              Shrek   \n",
       "7   8.6         96                                      Spirited Away   \n",
       "8   7.8         74                                     Ocean's Eleven   \n",
       "9   7.7         69                                       Training Day   \n",
       "\n",
       "     votes    year  \n",
       "0  1456431  (2001)  \n",
       "1   745073  (2001)  \n",
       "2   712553  (2001)  \n",
       "3   681140  (2001)  \n",
       "4   633316  (2001)  \n",
       "5   547172  (2001)  \n",
       "6   541542  (2001)  \n",
       "7   532765  (2001)  \n",
       "8   462974  (2001)  \n",
       "9   347742  (2001)  "
      ]
     },
     "execution_count": 37,
     "metadata": {},
     "output_type": "execute_result"
    }
   ],
   "source": [
    "movie_ratings = pd.DataFrame({'movie': names,\n",
    "                              'year': years,\n",
    "                              'imdb': imdb_ratings,\n",
    "                              'metascore': metascores,\n",
    "                              'votes': votes})\n",
    "print(movie_ratings.info())\n",
    "movie_ratings.head(10)"
   ]
  },
  {
   "cell_type": "markdown",
   "metadata": {},
   "source": [
    "Looks like we got what we needed! Now time to do a bit of cleanup:"
   ]
  },
  {
   "cell_type": "code",
   "execution_count": 38,
   "metadata": {
    "collapsed": false
   },
   "outputs": [
    {
     "data": {
      "text/html": [
       "<div>\n",
       "<style scoped>\n",
       "    .dataframe tbody tr th:only-of-type {\n",
       "        vertical-align: middle;\n",
       "    }\n",
       "\n",
       "    .dataframe tbody tr th {\n",
       "        vertical-align: top;\n",
       "    }\n",
       "\n",
       "    .dataframe thead th {\n",
       "        text-align: right;\n",
       "    }\n",
       "</style>\n",
       "<table border=\"1\" class=\"dataframe\">\n",
       "  <thead>\n",
       "    <tr style=\"text-align: right;\">\n",
       "      <th></th>\n",
       "      <th>movie</th>\n",
       "      <th>year</th>\n",
       "      <th>imdb</th>\n",
       "      <th>metascore</th>\n",
       "      <th>votes</th>\n",
       "    </tr>\n",
       "  </thead>\n",
       "  <tbody>\n",
       "    <tr>\n",
       "      <th>0</th>\n",
       "      <td>The Lord of the Rings: The Fellowship of the Ring</td>\n",
       "      <td>(2001)</td>\n",
       "      <td>8.8</td>\n",
       "      <td>92</td>\n",
       "      <td>1456431</td>\n",
       "    </tr>\n",
       "    <tr>\n",
       "      <th>1</th>\n",
       "      <td>A Beautiful Mind</td>\n",
       "      <td>(2001)</td>\n",
       "      <td>8.2</td>\n",
       "      <td>72</td>\n",
       "      <td>745073</td>\n",
       "    </tr>\n",
       "    <tr>\n",
       "      <th>2</th>\n",
       "      <td>Monsters, Inc.</td>\n",
       "      <td>(2001)</td>\n",
       "      <td>8.1</td>\n",
       "      <td>78</td>\n",
       "      <td>712553</td>\n",
       "    </tr>\n",
       "    <tr>\n",
       "      <th>3</th>\n",
       "      <td>Donnie Darko</td>\n",
       "      <td>(2001)</td>\n",
       "      <td>8.1</td>\n",
       "      <td>88</td>\n",
       "      <td>681140</td>\n",
       "    </tr>\n",
       "    <tr>\n",
       "      <th>4</th>\n",
       "      <td>Amélie</td>\n",
       "      <td>(2001)</td>\n",
       "      <td>8.3</td>\n",
       "      <td>69</td>\n",
       "      <td>633316</td>\n",
       "    </tr>\n",
       "  </tbody>\n",
       "</table>\n",
       "</div>"
      ],
      "text/plain": [
       "                                               movie    year  imdb  metascore  \\\n",
       "0  The Lord of the Rings: The Fellowship of the Ring  (2001)   8.8         92   \n",
       "1                                   A Beautiful Mind  (2001)   8.2         72   \n",
       "2                                     Monsters, Inc.  (2001)   8.1         78   \n",
       "3                                       Donnie Darko  (2001)   8.1         88   \n",
       "4                                             Amélie  (2001)   8.3         69   \n",
       "\n",
       "     votes  \n",
       "0  1456431  \n",
       "1   745073  \n",
       "2   712553  \n",
       "3   681140  \n",
       "4   633316  "
      ]
     },
     "execution_count": 38,
     "metadata": {},
     "output_type": "execute_result"
    }
   ],
   "source": [
    "# redo columns\n",
    "movie_ratings = movie_ratings[['movie', 'year', 'imdb', 'metascore', 'votes']]\n",
    "movie_ratings.head()"
   ]
  },
  {
   "cell_type": "code",
   "execution_count": 42,
   "metadata": {
    "collapsed": false
   },
   "outputs": [
    {
     "data": {
      "text/plain": [
       "array(['(2001)', '(2002)', '(2003)', '(2004)', '(I) (2004)', '(2005)',\n",
       "       '(I) (2005)', '(2006)', '(I) (2006)', '(2007)', '(I) (2007)',\n",
       "       '(2008)', '(I) (2008)', '(2009)', '(I) (2009)', '(2010)',\n",
       "       '(I) (2010)', '(2011)', '(I) (2011)', '(2012)', '(I) (2012)',\n",
       "       '(III)', '(2013)', '(I) (2013)', '(2014)', '(I) (2014)',\n",
       "       '(II) (2014)', '(2015)', '(I) (2015)', '(II) (2015)', '(2016)',\n",
       "       '(II) (2016)', '(I) (2016)', '(IX) (2016)', '(2017)', '(I) (2017)',\n",
       "       '(2018)', '(I) (2018)', '(III) (2018)'], dtype=object)"
      ]
     },
     "execution_count": 42,
     "metadata": {},
     "output_type": "execute_result"
    }
   ],
   "source": [
    "# look at the years\n",
    "movie_ratings['year'].unique()"
   ]
  },
  {
   "cell_type": "code",
   "execution_count": 43,
   "metadata": {
    "collapsed": false
   },
   "outputs": [],
   "source": [
    "# convert to int\n",
    "# remove the weird III value first\n",
    "movie_ratings = movie_ratings[movie_ratings['year'] != '(III)']\n",
    "movie_ratings.loc[:, 'year'] = movie_ratings['year'].str[-5:-1].astype(int)"
   ]
  },
  {
   "cell_type": "code",
   "execution_count": 44,
   "metadata": {
    "collapsed": false
   },
   "outputs": [
    {
     "data": {
      "text/plain": [
       "0    2001\n",
       "1    2001\n",
       "2    2001\n",
       "3    2001\n",
       "4    2001\n",
       "Name: year, dtype: int64"
      ]
     },
     "execution_count": 44,
     "metadata": {},
     "output_type": "execute_result"
    }
   ],
   "source": [
    "# confirm the change\n",
    "movie_ratings['year'].head()"
   ]
  },
  {
   "cell_type": "code",
   "execution_count": 45,
   "metadata": {
    "collapsed": false
   },
   "outputs": [
    {
     "data": {
      "text/html": [
       "<div>\n",
       "<style scoped>\n",
       "    .dataframe tbody tr th:only-of-type {\n",
       "        vertical-align: middle;\n",
       "    }\n",
       "\n",
       "    .dataframe tbody tr th {\n",
       "        vertical-align: top;\n",
       "    }\n",
       "\n",
       "    .dataframe thead th {\n",
       "        text-align: right;\n",
       "    }\n",
       "</style>\n",
       "<table border=\"1\" class=\"dataframe\">\n",
       "  <thead>\n",
       "    <tr style=\"text-align: right;\">\n",
       "      <th></th>\n",
       "      <th>imdb</th>\n",
       "      <th>metascore</th>\n",
       "    </tr>\n",
       "  </thead>\n",
       "  <tbody>\n",
       "    <tr>\n",
       "      <th>min</th>\n",
       "      <td>4.1</td>\n",
       "      <td>24.0</td>\n",
       "    </tr>\n",
       "    <tr>\n",
       "      <th>max</th>\n",
       "      <td>9.0</td>\n",
       "      <td>100.0</td>\n",
       "    </tr>\n",
       "  </tbody>\n",
       "</table>\n",
       "</div>"
      ],
      "text/plain": [
       "     imdb  metascore\n",
       "min   4.1       24.0\n",
       "max   9.0      100.0"
      ]
     },
     "execution_count": 45,
     "metadata": {},
     "output_type": "execute_result"
    }
   ],
   "source": [
    "# look for outliers (there are none)\n",
    "movie_ratings.describe().loc[['min', 'max'], ['imdb', 'metascore']]"
   ]
  },
  {
   "cell_type": "code",
   "execution_count": 51,
   "metadata": {
    "collapsed": false
   },
   "outputs": [
    {
     "data": {
      "text/html": [
       "<div>\n",
       "<style scoped>\n",
       "    .dataframe tbody tr th:only-of-type {\n",
       "        vertical-align: middle;\n",
       "    }\n",
       "\n",
       "    .dataframe tbody tr th {\n",
       "        vertical-align: top;\n",
       "    }\n",
       "\n",
       "    .dataframe thead th {\n",
       "        text-align: right;\n",
       "    }\n",
       "</style>\n",
       "<table border=\"1\" class=\"dataframe\">\n",
       "  <thead>\n",
       "    <tr style=\"text-align: right;\">\n",
       "      <th></th>\n",
       "      <th>movie</th>\n",
       "      <th>year</th>\n",
       "      <th>imdb</th>\n",
       "      <th>metascore</th>\n",
       "      <th>votes</th>\n",
       "      <th>n_imdb</th>\n",
       "    </tr>\n",
       "  </thead>\n",
       "  <tbody>\n",
       "    <tr>\n",
       "      <th>0</th>\n",
       "      <td>The Lord of the Rings: The Fellowship of the Ring</td>\n",
       "      <td>2001</td>\n",
       "      <td>8.8</td>\n",
       "      <td>92</td>\n",
       "      <td>1456431</td>\n",
       "      <td>88.0</td>\n",
       "    </tr>\n",
       "    <tr>\n",
       "      <th>1</th>\n",
       "      <td>A Beautiful Mind</td>\n",
       "      <td>2001</td>\n",
       "      <td>8.2</td>\n",
       "      <td>72</td>\n",
       "      <td>745073</td>\n",
       "      <td>82.0</td>\n",
       "    </tr>\n",
       "    <tr>\n",
       "      <th>2</th>\n",
       "      <td>Monsters, Inc.</td>\n",
       "      <td>2001</td>\n",
       "      <td>8.1</td>\n",
       "      <td>78</td>\n",
       "      <td>712553</td>\n",
       "      <td>81.0</td>\n",
       "    </tr>\n",
       "    <tr>\n",
       "      <th>3</th>\n",
       "      <td>Donnie Darko</td>\n",
       "      <td>2001</td>\n",
       "      <td>8.1</td>\n",
       "      <td>88</td>\n",
       "      <td>681140</td>\n",
       "      <td>81.0</td>\n",
       "    </tr>\n",
       "    <tr>\n",
       "      <th>4</th>\n",
       "      <td>Amélie</td>\n",
       "      <td>2001</td>\n",
       "      <td>8.3</td>\n",
       "      <td>69</td>\n",
       "      <td>633316</td>\n",
       "      <td>83.0</td>\n",
       "    </tr>\n",
       "  </tbody>\n",
       "</table>\n",
       "</div>"
      ],
      "text/plain": [
       "                                               movie  year  imdb  metascore  \\\n",
       "0  The Lord of the Rings: The Fellowship of the Ring  2001   8.8         92   \n",
       "1                                   A Beautiful Mind  2001   8.2         72   \n",
       "2                                     Monsters, Inc.  2001   8.1         78   \n",
       "3                                       Donnie Darko  2001   8.1         88   \n",
       "4                                             Amélie  2001   8.3         69   \n",
       "\n",
       "     votes  n_imdb  \n",
       "0  1456431    88.0  \n",
       "1   745073    82.0  \n",
       "2   712553    81.0  \n",
       "3   681140    81.0  \n",
       "4   633316    83.0  "
      ]
     },
     "execution_count": 51,
     "metadata": {},
     "output_type": "execute_result"
    }
   ],
   "source": [
    "# normalize imdb ratings\n",
    "movie_ratings['n_imdb'] = movie_ratings['imdb'] * 10\n",
    "movie_ratings.head()"
   ]
  },
  {
   "cell_type": "code",
   "execution_count": 52,
   "metadata": {
    "collapsed": true
   },
   "outputs": [],
   "source": [
    "# save the df to a csv\n",
    "movie_ratings.to_csv('movie_ratings.csv')"
   ]
  },
  {
   "cell_type": "markdown",
   "metadata": {},
   "source": [
    "This last step is very important! Unless you want to go through 15-20 min of scraping again, saving the file to a csv makes things much quicker next time. All you have to do then is just read it into pandas and voila."
   ]
  },
  {
   "cell_type": "code",
   "execution_count": 53,
   "metadata": {
    "collapsed": true
   },
   "outputs": [],
   "source": [
    "# Run this cell next time only if you have the csv\n",
    "# movie_ratings = pd.read_csv('movie_ratings.csv')\n",
    "# movie_ratings.head()"
   ]
  },
  {
   "cell_type": "markdown",
   "metadata": {},
   "source": [
    "Finally, let's plot some distributions to prove a point:"
   ]
  },
  {
   "cell_type": "code",
   "execution_count": 54,
   "metadata": {
    "collapsed": false
   },
   "outputs": [
    {
     "data": {
      "image/png": "[encoded data removed]",
      "text/plain": [
       "<matplotlib.figure.Figure at 0x7f0dc5e2a898>"
      ]
     },
     "metadata": {},
     "output_type": "display_data"
    }
   ],
   "source": [
    "fig, axes = plt.subplots(nrows = 1, ncols = 3, figsize = (16,4))\n",
    "ax1, ax2, ax3 = fig.axes\n",
    "\n",
    "ax1.hist(movie_ratings['imdb'], bins = 10, range = (0,10)) # bin range = 1\n",
    "ax1.set_title('IMDB rating')\n",
    "\n",
    "ax2.hist(movie_ratings['metascore'], bins = 10, range = (0,100)) # bin range = 10\n",
    "ax2.set_title('Metascore')\n",
    "\n",
    "ax3.hist(movie_ratings['n_imdb'], bins = 10, range = (0,100), histtype = 'step')\n",
    "ax3.hist(movie_ratings['metascore'], bins = 10, range = (0,100), histtype = 'step')\n",
    "ax3.legend(loc = 'upper left')\n",
    "ax3.set_title('The Two Normalized Distributions')\n",
    "\n",
    "for ax in fig.axes:\n",
    "    ax.spines['top'].set_visible(False)\n",
    "    ax.spines['right'].set_visible(False)\n",
    "\n",
    "plt.show()"
   ]
  },
  {
   "cell_type": "markdown",
   "metadata": {},
   "source": [
    "Well would you look at that. It turns out this wasn't a very quick proof after all, but we still got what we came for. We can see that IMDB ratings actually skew heavily to the left just like Fandango, so they may be just as unreliable. However, the metascores follow and almost perfect normal distribution. While their mean isn't exactly 50, the shape of their distribution is good enough such that we can confidently say that their ratings are probably more trustworthy than that of Fandango."
   ]
  },
  {
   "cell_type": "markdown",
   "metadata": {},
   "source": [
    "## Conclusion\n",
    "While we went off topic just a little bit with that last question, our analysis showed that there was indeed a difference in Fandango's ratings from 2015 to 2016 in terms of popular movies. We determined that this difference was that popular movies in 2016 were rated less in score than in 2015, which may give some positive light on Fandango and their claims of changing their 'bug'.\n",
    "\n",
    "We cannot be completely sure what caused the change, but the chances are very high that it was caused by Fandango fixing the biased rating system after Hickey's analysis. It is important to note that we do not confirm this with 100% certainty. \n",
    "\n",
    "We then styled our project just a little bit better with 538 style graphs and better commenting, to the best of our ability thus far. We probably could have styled the last graph in our little proof too, but the question was seen and answered quite easily, and the goal of it in the first place was to see web scraping (and let's be honest, just a tiny hint of laziness). \n",
    "\n",
    "In order to change the graphs though, it should not take much time at all. Simply copy paste the code from our rendition of the first grpah and change this one as necessary. Trial and error until it looks more beautiful.\n",
    "\n",
    "Finally, as just mentioned, we did a little web scraping and introduced some new functions to use in order to see a different company/site's movie ratings, and determined that if you are looking for a reliable movie rating source, metascores on IMDB are way better to go to than Fandango (sorry, Fandango). Don't feel too bad for Fandango though, they probably know what they're doing.\n",
    "\n",
    "After this extensive project, next steps and other questions to answer could probably include things like which year had the best movies, which site is the worst at movie ratings (don't be surprised if it's Fandango all along), are critics better at rating movies than fans (would actually like to see this distribution using rotten tomatoes for example), etc. \n",
    "\n",
    "For now, though, it seems as if we have "
   ]
  }
 ],
 "metadata": {
  "kernelspec": {
   "display_name": "Python 3",
   "language": "python",
   "name": "python3"
  },
  "language_info": {
   "codemirror_mode": {
    "name": "ipython",
    "version": 3
   },
   "file_extension": ".py",
   "mimetype": "text/x-python",
   "name": "python",
   "nbconvert_exporter": "python",
   "pygments_lexer": "ipython3",
   "version": "3.4.3"
  }
 },
 "nbformat": 4,
 "nbformat_minor": 2
}
