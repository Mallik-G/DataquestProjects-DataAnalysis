{
 "cells": [
  {
   "cell_type": "markdown",
   "metadata": {
    "collapsed": true
   },
   "source": [
    "# Winning Jeopardy: Is There a Pattern?\n",
    "## Introduction\n",
    "Jeopardy is a popular TV show ub the US similar to any game where you answer trivia questios and win money. If you are confused with a concept, a brief description can be found on the wiki: https://en.wikipedia.org/wiki/Jeopardy!\n",
    "\n",
    "Let's say we've been asked to compete on the show. Is there an edge to win? Are there really ways to \"game\" the game? Let's see if we can find any patterns within the questions to figure this out. We have attached in this project a dataset (taken from reddit) that contains about 200000 questions from jeopardy, of which we take about 20000 from in our own csv for faster analysis, a decent sample size! They contain the following information:\n",
    "* Show Number -- the Jeopardy episode number of the show this question was in.\n",
    "* Air Date -- the date the episode aired.\n",
    "* Round -- the round of Jeopardy that the question was asked in. Jeopardy has several rounds as each episode progresses.\n",
    "* Category -- the category of the question.\n",
    "* Value -- the number of dollars answering the question correctly is worth.\n",
    "* Question -- the text of the question.\n",
    "* Answer -- the text of the answer.\n",
    "\n",
    "Let's get started!"
   ]
  },
  {
   "cell_type": "markdown",
   "metadata": {},
   "source": [
    "## Exploration\n",
    "First let's get familiar with what we're working with as usual:"
   ]
  },
  {
   "cell_type": "code",
   "execution_count": 1,
   "metadata": {
    "collapsed": false
   },
   "outputs": [
    {
     "data": {
      "text/html": [
       "<div>\n",
       "<style scoped>\n",
       "    .dataframe tbody tr th:only-of-type {\n",
       "        vertical-align: middle;\n",
       "    }\n",
       "\n",
       "    .dataframe tbody tr th {\n",
       "        vertical-align: top;\n",
       "    }\n",
       "\n",
       "    .dataframe thead th {\n",
       "        text-align: right;\n",
       "    }\n",
       "</style>\n",
       "<table border=\"1\" class=\"dataframe\">\n",
       "  <thead>\n",
       "    <tr style=\"text-align: right;\">\n",
       "      <th></th>\n",
       "      <th>Show Number</th>\n",
       "      <th>Air Date</th>\n",
       "      <th>Round</th>\n",
       "      <th>Category</th>\n",
       "      <th>Value</th>\n",
       "      <th>Question</th>\n",
       "      <th>Answer</th>\n",
       "    </tr>\n",
       "  </thead>\n",
       "  <tbody>\n",
       "    <tr>\n",
       "      <th>0</th>\n",
       "      <td>4680</td>\n",
       "      <td>2004-12-31</td>\n",
       "      <td>Jeopardy!</td>\n",
       "      <td>HISTORY</td>\n",
       "      <td>$200</td>\n",
       "      <td>For the last 8 years of his life, Galileo was ...</td>\n",
       "      <td>Copernicus</td>\n",
       "    </tr>\n",
       "    <tr>\n",
       "      <th>1</th>\n",
       "      <td>4680</td>\n",
       "      <td>2004-12-31</td>\n",
       "      <td>Jeopardy!</td>\n",
       "      <td>ESPN's TOP 10 ALL-TIME ATHLETES</td>\n",
       "      <td>$200</td>\n",
       "      <td>No. 2: 1912 Olympian; football star at Carlisl...</td>\n",
       "      <td>Jim Thorpe</td>\n",
       "    </tr>\n",
       "    <tr>\n",
       "      <th>2</th>\n",
       "      <td>4680</td>\n",
       "      <td>2004-12-31</td>\n",
       "      <td>Jeopardy!</td>\n",
       "      <td>EVERYBODY TALKS ABOUT IT...</td>\n",
       "      <td>$200</td>\n",
       "      <td>The city of Yuma in this state has a record av...</td>\n",
       "      <td>Arizona</td>\n",
       "    </tr>\n",
       "    <tr>\n",
       "      <th>3</th>\n",
       "      <td>4680</td>\n",
       "      <td>2004-12-31</td>\n",
       "      <td>Jeopardy!</td>\n",
       "      <td>THE COMPANY LINE</td>\n",
       "      <td>$200</td>\n",
       "      <td>In 1963, live on \"The Art Linkletter Show\", th...</td>\n",
       "      <td>McDonald's</td>\n",
       "    </tr>\n",
       "    <tr>\n",
       "      <th>4</th>\n",
       "      <td>4680</td>\n",
       "      <td>2004-12-31</td>\n",
       "      <td>Jeopardy!</td>\n",
       "      <td>EPITAPHS &amp; TRIBUTES</td>\n",
       "      <td>$200</td>\n",
       "      <td>Signer of the Dec. of Indep., framer of the Co...</td>\n",
       "      <td>John Adams</td>\n",
       "    </tr>\n",
       "  </tbody>\n",
       "</table>\n",
       "</div>"
      ],
      "text/plain": [
       "   Show Number    Air Date      Round                         Category  Value  \\\n",
       "0         4680  2004-12-31  Jeopardy!                          HISTORY   $200   \n",
       "1         4680  2004-12-31  Jeopardy!  ESPN's TOP 10 ALL-TIME ATHLETES   $200   \n",
       "2         4680  2004-12-31  Jeopardy!      EVERYBODY TALKS ABOUT IT...   $200   \n",
       "3         4680  2004-12-31  Jeopardy!                 THE COMPANY LINE   $200   \n",
       "4         4680  2004-12-31  Jeopardy!              EPITAPHS & TRIBUTES   $200   \n",
       "\n",
       "                                            Question      Answer  \n",
       "0  For the last 8 years of his life, Galileo was ...  Copernicus  \n",
       "1  No. 2: 1912 Olympian; football star at Carlisl...  Jim Thorpe  \n",
       "2  The city of Yuma in this state has a record av...     Arizona  \n",
       "3  In 1963, live on \"The Art Linkletter Show\", th...  McDonald's  \n",
       "4  Signer of the Dec. of Indep., framer of the Co...  John Adams  "
      ]
     },
     "execution_count": 1,
     "metadata": {},
     "output_type": "execute_result"
    }
   ],
   "source": [
    "# imports\n",
    "import pandas as pd\n",
    "import csv\n",
    "\n",
    "# make our main df\n",
    "jeopardy = pd.read_csv(\"jeopardy.csv\")\n",
    "\n",
    "# getting familiar\n",
    "jeopardy.head()"
   ]
  },
  {
   "cell_type": "code",
   "execution_count": 2,
   "metadata": {
    "collapsed": false
   },
   "outputs": [
    {
     "name": "stdout",
     "output_type": "stream",
     "text": [
      "(19999, 7)\n"
     ]
    },
    {
     "data": {
      "text/plain": [
       "Index(['Show Number', ' Air Date', ' Round', ' Category', ' Value',\n",
       "       ' Question', ' Answer'],\n",
       "      dtype='object')"
      ]
     },
     "execution_count": 2,
     "metadata": {},
     "output_type": "execute_result"
    }
   ],
   "source": [
    "# see the shape and columns\n",
    "print(jeopardy.shape)\n",
    "jeopardy.columns"
   ]
  },
  {
   "cell_type": "code",
   "execution_count": 3,
   "metadata": {
    "collapsed": false
   },
   "outputs": [
    {
     "data": {
      "text/html": [
       "<div>\n",
       "<style scoped>\n",
       "    .dataframe tbody tr th:only-of-type {\n",
       "        vertical-align: middle;\n",
       "    }\n",
       "\n",
       "    .dataframe tbody tr th {\n",
       "        vertical-align: top;\n",
       "    }\n",
       "\n",
       "    .dataframe thead th {\n",
       "        text-align: right;\n",
       "    }\n",
       "</style>\n",
       "<table border=\"1\" class=\"dataframe\">\n",
       "  <thead>\n",
       "    <tr style=\"text-align: right;\">\n",
       "      <th></th>\n",
       "      <th>Show Number</th>\n",
       "      <th>Air Date</th>\n",
       "      <th>Round</th>\n",
       "      <th>Category</th>\n",
       "      <th>Value</th>\n",
       "      <th>Question</th>\n",
       "      <th>Answer</th>\n",
       "    </tr>\n",
       "  </thead>\n",
       "  <tbody>\n",
       "    <tr>\n",
       "      <th>0</th>\n",
       "      <td>4680</td>\n",
       "      <td>2004-12-31</td>\n",
       "      <td>Jeopardy!</td>\n",
       "      <td>HISTORY</td>\n",
       "      <td>$200</td>\n",
       "      <td>For the last 8 years of his life, Galileo was ...</td>\n",
       "      <td>Copernicus</td>\n",
       "    </tr>\n",
       "    <tr>\n",
       "      <th>1</th>\n",
       "      <td>4680</td>\n",
       "      <td>2004-12-31</td>\n",
       "      <td>Jeopardy!</td>\n",
       "      <td>ESPN's TOP 10 ALL-TIME ATHLETES</td>\n",
       "      <td>$200</td>\n",
       "      <td>No. 2: 1912 Olympian; football star at Carlisl...</td>\n",
       "      <td>Jim Thorpe</td>\n",
       "    </tr>\n",
       "    <tr>\n",
       "      <th>2</th>\n",
       "      <td>4680</td>\n",
       "      <td>2004-12-31</td>\n",
       "      <td>Jeopardy!</td>\n",
       "      <td>EVERYBODY TALKS ABOUT IT...</td>\n",
       "      <td>$200</td>\n",
       "      <td>The city of Yuma in this state has a record av...</td>\n",
       "      <td>Arizona</td>\n",
       "    </tr>\n",
       "    <tr>\n",
       "      <th>3</th>\n",
       "      <td>4680</td>\n",
       "      <td>2004-12-31</td>\n",
       "      <td>Jeopardy!</td>\n",
       "      <td>THE COMPANY LINE</td>\n",
       "      <td>$200</td>\n",
       "      <td>In 1963, live on \"The Art Linkletter Show\", th...</td>\n",
       "      <td>McDonald's</td>\n",
       "    </tr>\n",
       "    <tr>\n",
       "      <th>4</th>\n",
       "      <td>4680</td>\n",
       "      <td>2004-12-31</td>\n",
       "      <td>Jeopardy!</td>\n",
       "      <td>EPITAPHS &amp; TRIBUTES</td>\n",
       "      <td>$200</td>\n",
       "      <td>Signer of the Dec. of Indep., framer of the Co...</td>\n",
       "      <td>John Adams</td>\n",
       "    </tr>\n",
       "  </tbody>\n",
       "</table>\n",
       "</div>"
      ],
      "text/plain": [
       "   Show Number    Air Date      Round                         Category Value  \\\n",
       "0         4680  2004-12-31  Jeopardy!                          HISTORY  $200   \n",
       "1         4680  2004-12-31  Jeopardy!  ESPN's TOP 10 ALL-TIME ATHLETES  $200   \n",
       "2         4680  2004-12-31  Jeopardy!      EVERYBODY TALKS ABOUT IT...  $200   \n",
       "3         4680  2004-12-31  Jeopardy!                 THE COMPANY LINE  $200   \n",
       "4         4680  2004-12-31  Jeopardy!              EPITAPHS & TRIBUTES  $200   \n",
       "\n",
       "                                            Question      Answer  \n",
       "0  For the last 8 years of his life, Galileo was ...  Copernicus  \n",
       "1  No. 2: 1912 Olympian; football star at Carlisl...  Jim Thorpe  \n",
       "2  The city of Yuma in this state has a record av...     Arizona  \n",
       "3  In 1963, live on \"The Art Linkletter Show\", th...  McDonald's  \n",
       "4  Signer of the Dec. of Indep., framer of the Co...  John Adams  "
      ]
     },
     "execution_count": 3,
     "metadata": {},
     "output_type": "execute_result"
    }
   ],
   "source": [
    "# fix the columns for easier analysis\n",
    "jeopardy.columns = ['Show Number', 'Air Date', 'Round', 'Category', 'Value', 'Question', 'Answer']\n",
    "jeopardy.head()"
   ]
  },
  {
   "cell_type": "markdown",
   "metadata": {},
   "source": [
    "## Normalizing Text\n",
    "Before we can start on analysis, we need to normalize all of the text columns (questions and answers). The idea of this is to make sure we lowercase words and remove punctuation and the such so that things like \"Don't\" and \"don't\" are not different words when analyzing. "
   ]
  },
  {
   "cell_type": "code",
   "execution_count": 4,
   "metadata": {
    "collapsed": true
   },
   "outputs": [],
   "source": [
    "# get re to convert\n",
    "import re\n",
    "\n",
    "# function to normalize the text\n",
    "def normalize_text(text):\n",
    "    text = text.lower()\n",
    "    text = re.sub(\"[^A-Za-z0-9\\s]\", \"\", text)\n",
    "    return text"
   ]
  },
  {
   "cell_type": "code",
   "execution_count": 5,
   "metadata": {
    "collapsed": false
   },
   "outputs": [],
   "source": [
    "# claen up the questions and answers\n",
    "jeopardy[\"clean_question\"] = jeopardy[\"Question\"].apply(normalize_text)\n",
    "jeopardy[\"clean_answer\"] = jeopardy[\"Answer\"].apply(normalize_text)"
   ]
  },
  {
   "cell_type": "code",
   "execution_count": 6,
   "metadata": {
    "collapsed": false
   },
   "outputs": [
    {
     "data": {
      "text/html": [
       "<div>\n",
       "<style scoped>\n",
       "    .dataframe tbody tr th:only-of-type {\n",
       "        vertical-align: middle;\n",
       "    }\n",
       "\n",
       "    .dataframe tbody tr th {\n",
       "        vertical-align: top;\n",
       "    }\n",
       "\n",
       "    .dataframe thead th {\n",
       "        text-align: right;\n",
       "    }\n",
       "</style>\n",
       "<table border=\"1\" class=\"dataframe\">\n",
       "  <thead>\n",
       "    <tr style=\"text-align: right;\">\n",
       "      <th></th>\n",
       "      <th>Show Number</th>\n",
       "      <th>Air Date</th>\n",
       "      <th>Round</th>\n",
       "      <th>Category</th>\n",
       "      <th>Value</th>\n",
       "      <th>Question</th>\n",
       "      <th>Answer</th>\n",
       "      <th>clean_question</th>\n",
       "      <th>clean_answer</th>\n",
       "    </tr>\n",
       "  </thead>\n",
       "  <tbody>\n",
       "    <tr>\n",
       "      <th>0</th>\n",
       "      <td>4680</td>\n",
       "      <td>2004-12-31</td>\n",
       "      <td>Jeopardy!</td>\n",
       "      <td>HISTORY</td>\n",
       "      <td>$200</td>\n",
       "      <td>For the last 8 years of his life, Galileo was ...</td>\n",
       "      <td>Copernicus</td>\n",
       "      <td>for the last 8 years of his life galileo was u...</td>\n",
       "      <td>copernicus</td>\n",
       "    </tr>\n",
       "    <tr>\n",
       "      <th>1</th>\n",
       "      <td>4680</td>\n",
       "      <td>2004-12-31</td>\n",
       "      <td>Jeopardy!</td>\n",
       "      <td>ESPN's TOP 10 ALL-TIME ATHLETES</td>\n",
       "      <td>$200</td>\n",
       "      <td>No. 2: 1912 Olympian; football star at Carlisl...</td>\n",
       "      <td>Jim Thorpe</td>\n",
       "      <td>no 2 1912 olympian football star at carlisle i...</td>\n",
       "      <td>jim thorpe</td>\n",
       "    </tr>\n",
       "    <tr>\n",
       "      <th>2</th>\n",
       "      <td>4680</td>\n",
       "      <td>2004-12-31</td>\n",
       "      <td>Jeopardy!</td>\n",
       "      <td>EVERYBODY TALKS ABOUT IT...</td>\n",
       "      <td>$200</td>\n",
       "      <td>The city of Yuma in this state has a record av...</td>\n",
       "      <td>Arizona</td>\n",
       "      <td>the city of yuma in this state has a record av...</td>\n",
       "      <td>arizona</td>\n",
       "    </tr>\n",
       "    <tr>\n",
       "      <th>3</th>\n",
       "      <td>4680</td>\n",
       "      <td>2004-12-31</td>\n",
       "      <td>Jeopardy!</td>\n",
       "      <td>THE COMPANY LINE</td>\n",
       "      <td>$200</td>\n",
       "      <td>In 1963, live on \"The Art Linkletter Show\", th...</td>\n",
       "      <td>McDonald's</td>\n",
       "      <td>in 1963 live on the art linkletter show this c...</td>\n",
       "      <td>mcdonalds</td>\n",
       "    </tr>\n",
       "    <tr>\n",
       "      <th>4</th>\n",
       "      <td>4680</td>\n",
       "      <td>2004-12-31</td>\n",
       "      <td>Jeopardy!</td>\n",
       "      <td>EPITAPHS &amp; TRIBUTES</td>\n",
       "      <td>$200</td>\n",
       "      <td>Signer of the Dec. of Indep., framer of the Co...</td>\n",
       "      <td>John Adams</td>\n",
       "      <td>signer of the dec of indep framer of the const...</td>\n",
       "      <td>john adams</td>\n",
       "    </tr>\n",
       "  </tbody>\n",
       "</table>\n",
       "</div>"
      ],
      "text/plain": [
       "   Show Number    Air Date      Round                         Category Value  \\\n",
       "0         4680  2004-12-31  Jeopardy!                          HISTORY  $200   \n",
       "1         4680  2004-12-31  Jeopardy!  ESPN's TOP 10 ALL-TIME ATHLETES  $200   \n",
       "2         4680  2004-12-31  Jeopardy!      EVERYBODY TALKS ABOUT IT...  $200   \n",
       "3         4680  2004-12-31  Jeopardy!                 THE COMPANY LINE  $200   \n",
       "4         4680  2004-12-31  Jeopardy!              EPITAPHS & TRIBUTES  $200   \n",
       "\n",
       "                                            Question      Answer  \\\n",
       "0  For the last 8 years of his life, Galileo was ...  Copernicus   \n",
       "1  No. 2: 1912 Olympian; football star at Carlisl...  Jim Thorpe   \n",
       "2  The city of Yuma in this state has a record av...     Arizona   \n",
       "3  In 1963, live on \"The Art Linkletter Show\", th...  McDonald's   \n",
       "4  Signer of the Dec. of Indep., framer of the Co...  John Adams   \n",
       "\n",
       "                                      clean_question clean_answer  \n",
       "0  for the last 8 years of his life galileo was u...   copernicus  \n",
       "1  no 2 1912 olympian football star at carlisle i...   jim thorpe  \n",
       "2  the city of yuma in this state has a record av...      arizona  \n",
       "3  in 1963 live on the art linkletter show this c...    mcdonalds  \n",
       "4  signer of the dec of indep framer of the const...   john adams  "
      ]
     },
     "execution_count": 6,
     "metadata": {},
     "output_type": "execute_result"
    }
   ],
   "source": [
    "# see our results\n",
    "jeopardy.head()"
   ]
  },
  {
   "cell_type": "markdown",
   "metadata": {},
   "source": [
    "## Normalizing Values\n",
    "Values are also important and should be normalized. The Value and Air Date columns are obvious candidates, and should be converted to numeric (with $ sign removed) and datetime, respectively. We can do that with the following:"
   ]
  },
  {
   "cell_type": "code",
   "execution_count": 7,
   "metadata": {
    "collapsed": true
   },
   "outputs": [],
   "source": [
    "# function to normalize the values\n",
    "def normalize_values(text):\n",
    "    text = re.sub(\"[^A-Za-z0-9\\s]\", \"\", text)\n",
    "    text = re.sub(\"\\$\", \"\", text)\n",
    "    try:\n",
    "        text = int(text)\n",
    "    except Exception:\n",
    "        text = 0\n",
    "    return text"
   ]
  },
  {
   "cell_type": "code",
   "execution_count": 8,
   "metadata": {
    "collapsed": false
   },
   "outputs": [
    {
     "data": {
      "text/html": [
       "<div>\n",
       "<style scoped>\n",
       "    .dataframe tbody tr th:only-of-type {\n",
       "        vertical-align: middle;\n",
       "    }\n",
       "\n",
       "    .dataframe tbody tr th {\n",
       "        vertical-align: top;\n",
       "    }\n",
       "\n",
       "    .dataframe thead th {\n",
       "        text-align: right;\n",
       "    }\n",
       "</style>\n",
       "<table border=\"1\" class=\"dataframe\">\n",
       "  <thead>\n",
       "    <tr style=\"text-align: right;\">\n",
       "      <th></th>\n",
       "      <th>Show Number</th>\n",
       "      <th>Air Date</th>\n",
       "      <th>Round</th>\n",
       "      <th>Category</th>\n",
       "      <th>Value</th>\n",
       "      <th>Question</th>\n",
       "      <th>Answer</th>\n",
       "      <th>clean_question</th>\n",
       "      <th>clean_answer</th>\n",
       "      <th>clean_value</th>\n",
       "    </tr>\n",
       "  </thead>\n",
       "  <tbody>\n",
       "    <tr>\n",
       "      <th>0</th>\n",
       "      <td>4680</td>\n",
       "      <td>2004-12-31</td>\n",
       "      <td>Jeopardy!</td>\n",
       "      <td>HISTORY</td>\n",
       "      <td>$200</td>\n",
       "      <td>For the last 8 years of his life, Galileo was ...</td>\n",
       "      <td>Copernicus</td>\n",
       "      <td>for the last 8 years of his life galileo was u...</td>\n",
       "      <td>copernicus</td>\n",
       "      <td>200</td>\n",
       "    </tr>\n",
       "    <tr>\n",
       "      <th>1</th>\n",
       "      <td>4680</td>\n",
       "      <td>2004-12-31</td>\n",
       "      <td>Jeopardy!</td>\n",
       "      <td>ESPN's TOP 10 ALL-TIME ATHLETES</td>\n",
       "      <td>$200</td>\n",
       "      <td>No. 2: 1912 Olympian; football star at Carlisl...</td>\n",
       "      <td>Jim Thorpe</td>\n",
       "      <td>no 2 1912 olympian football star at carlisle i...</td>\n",
       "      <td>jim thorpe</td>\n",
       "      <td>200</td>\n",
       "    </tr>\n",
       "    <tr>\n",
       "      <th>2</th>\n",
       "      <td>4680</td>\n",
       "      <td>2004-12-31</td>\n",
       "      <td>Jeopardy!</td>\n",
       "      <td>EVERYBODY TALKS ABOUT IT...</td>\n",
       "      <td>$200</td>\n",
       "      <td>The city of Yuma in this state has a record av...</td>\n",
       "      <td>Arizona</td>\n",
       "      <td>the city of yuma in this state has a record av...</td>\n",
       "      <td>arizona</td>\n",
       "      <td>200</td>\n",
       "    </tr>\n",
       "    <tr>\n",
       "      <th>3</th>\n",
       "      <td>4680</td>\n",
       "      <td>2004-12-31</td>\n",
       "      <td>Jeopardy!</td>\n",
       "      <td>THE COMPANY LINE</td>\n",
       "      <td>$200</td>\n",
       "      <td>In 1963, live on \"The Art Linkletter Show\", th...</td>\n",
       "      <td>McDonald's</td>\n",
       "      <td>in 1963 live on the art linkletter show this c...</td>\n",
       "      <td>mcdonalds</td>\n",
       "      <td>200</td>\n",
       "    </tr>\n",
       "    <tr>\n",
       "      <th>4</th>\n",
       "      <td>4680</td>\n",
       "      <td>2004-12-31</td>\n",
       "      <td>Jeopardy!</td>\n",
       "      <td>EPITAPHS &amp; TRIBUTES</td>\n",
       "      <td>$200</td>\n",
       "      <td>Signer of the Dec. of Indep., framer of the Co...</td>\n",
       "      <td>John Adams</td>\n",
       "      <td>signer of the dec of indep framer of the const...</td>\n",
       "      <td>john adams</td>\n",
       "      <td>200</td>\n",
       "    </tr>\n",
       "  </tbody>\n",
       "</table>\n",
       "</div>"
      ],
      "text/plain": [
       "   Show Number    Air Date      Round                         Category Value  \\\n",
       "0         4680  2004-12-31  Jeopardy!                          HISTORY  $200   \n",
       "1         4680  2004-12-31  Jeopardy!  ESPN's TOP 10 ALL-TIME ATHLETES  $200   \n",
       "2         4680  2004-12-31  Jeopardy!      EVERYBODY TALKS ABOUT IT...  $200   \n",
       "3         4680  2004-12-31  Jeopardy!                 THE COMPANY LINE  $200   \n",
       "4         4680  2004-12-31  Jeopardy!              EPITAPHS & TRIBUTES  $200   \n",
       "\n",
       "                                            Question      Answer  \\\n",
       "0  For the last 8 years of his life, Galileo was ...  Copernicus   \n",
       "1  No. 2: 1912 Olympian; football star at Carlisl...  Jim Thorpe   \n",
       "2  The city of Yuma in this state has a record av...     Arizona   \n",
       "3  In 1963, live on \"The Art Linkletter Show\", th...  McDonald's   \n",
       "4  Signer of the Dec. of Indep., framer of the Co...  John Adams   \n",
       "\n",
       "                                      clean_question clean_answer  clean_value  \n",
       "0  for the last 8 years of his life galileo was u...   copernicus          200  \n",
       "1  no 2 1912 olympian football star at carlisle i...   jim thorpe          200  \n",
       "2  the city of yuma in this state has a record av...      arizona          200  \n",
       "3  in 1963 live on the art linkletter show this c...    mcdonalds          200  \n",
       "4  signer of the dec of indep framer of the const...   john adams          200  "
      ]
     },
     "execution_count": 8,
     "metadata": {},
     "output_type": "execute_result"
    }
   ],
   "source": [
    "# clean up the values\n",
    "jeopardy[\"clean_value\"] = jeopardy[\"Value\"].apply(normalize_values)\n",
    "jeopardy.head()"
   ]
  },
  {
   "cell_type": "code",
   "execution_count": 9,
   "metadata": {
    "collapsed": false
   },
   "outputs": [
    {
     "data": {
      "text/plain": [
       "Show Number                int64\n",
       "Air Date          datetime64[ns]\n",
       "Round                     object\n",
       "Category                  object\n",
       "Value                     object\n",
       "Question                  object\n",
       "Answer                    object\n",
       "clean_question            object\n",
       "clean_answer              object\n",
       "clean_value                int64\n",
       "dtype: object"
      ]
     },
     "execution_count": 9,
     "metadata": {},
     "output_type": "execute_result"
    }
   ],
   "source": [
    "# clean up the air date column\n",
    "jeopardy[\"Air Date\"] = pd.to_datetime(jeopardy[\"Air Date\"])\n",
    "\n",
    "# see the dtypes to confirm\n",
    "jeopardy.dtypes"
   ]
  },
  {
   "cell_type": "markdown",
   "metadata": {},
   "source": [
    "## What to Study?\n",
    "In order to figure out whether we should study past questions, general knowledge, not study at all, etc., it would be helpful to figure out:\n",
    "* How often the answer is deducible from the question\n",
    "* How often new questions are repeats of old questions\n",
    "\n",
    "We can do this by seeing how often complex words (we'll say \"complex\" is over 6 characters) occur and repeat. For example, with the first question, we can see how many times a word in the answer also occurs in the question, with the following:"
   ]
  },
  {
   "cell_type": "code",
   "execution_count": 10,
   "metadata": {
    "collapsed": true
   },
   "outputs": [],
   "source": [
    "# function to count matches given a row\n",
    "def count_matches(row):\n",
    "    split_answer = row[\"clean_answer\"].split(\" \")\n",
    "    split_question = row[\"clean_question\"].split(\" \")\n",
    "    match_count = 0\n",
    "    # remove common and 0\n",
    "    if \"the\" in split_answer:\n",
    "        split_answer.remove(\"the\")\n",
    "    if len(split_answer) == 0:\n",
    "        return 0\n",
    "    \n",
    "    for item in split_answer:\n",
    "        if item in split_question:\n",
    "            match_count += 1\n",
    "            \n",
    "    return match_count / len(split_answer)"
   ]
  },
  {
   "cell_type": "code",
   "execution_count": 11,
   "metadata": {
    "collapsed": false
   },
   "outputs": [
    {
     "data": {
      "text/plain": [
       "0.06049325706933587"
      ]
     },
     "execution_count": 11,
     "metadata": {},
     "output_type": "execute_result"
    }
   ],
   "source": [
    "# apply and see results\n",
    "jeopardy[\"answer_in_question\"] = jeopardy.apply(count_matches, axis=1)\n",
    "jeopardy[\"answer_in_question\"].mean()"
   ]
  },
  {
   "cell_type": "markdown",
   "metadata": {},
   "source": [
    "It looks like about 6% of the time, the answer to the question is already in the question itself. Although this looks promising, 6% isn't really all that much, and most of the time just guessing would probably produce a lucky error rate of around 6%. We'll probably have to study in contrast to hoping for the answers. We can explore other our 2nd question now to see if that gets us any better results (hopefully better than a 6% rate)."
   ]
  },
  {
   "cell_type": "markdown",
   "metadata": {},
   "source": [
    "## Old/New Question Overlaps\n",
    "We can now see whether or not (or how often, rather) new questions are repeats of old questions. We only have a sample of the total population of questions, but can still use it as a representation. We can sort jeopardy by air date, and maintain a set of terms used that will be updated with each row in the dataset. For each row, if a term is already in the set, a counter is incremented. Again, we'll be using complex words over 6 characters."
   ]
  },
  {
   "cell_type": "code",
   "execution_count": 12,
   "metadata": {
    "collapsed": false
   },
   "outputs": [
    {
     "data": {
      "text/plain": [
       "0.6925960057338647"
      ]
     },
     "execution_count": 12,
     "metadata": {},
     "output_type": "execute_result"
    }
   ],
   "source": [
    "# empty list and set\n",
    "question_overlap = []\n",
    "terms_used = set()\n",
    "\n",
    "# iterate rows, splitting question\n",
    "for i, row in jeopardy.iterrows():\n",
    "    split_question = row[\"clean_question\"].split(\" \")\n",
    "    split_question = [q for q in split_question if len(q) > 5]\n",
    "    match_count = 0\n",
    "    # iterate words in question, setting matches\n",
    "    for word in split_question:\n",
    "        if word in terms_used:\n",
    "            match_count += 1\n",
    "        terms_used.add(word)\n",
    "    # set match count and append\n",
    "    if len(split_question) > 0:\n",
    "        match_count /= len(split_question)\n",
    "    question_overlap.append(match_count)\n",
    "\n",
    "# create new column \n",
    "jeopardy[\"question_overlap\"] = question_overlap\n",
    "\n",
    "# display the mean to see results\n",
    "jeopardy[\"question_overlap\"].mean()"
   ]
  },
  {
   "cell_type": "markdown",
   "metadata": {},
   "source": [
    "We can see that there is about a 70% overlap (usually) between old and new questions. Again, while promising, it is important to note that it only looks at individual words. This makes the results slightly less significant, as words like \"Greece\" can obviously have a multitude of different contexts in the form of numerous question categories.\n",
    "\n",
    "Still, it is much better than the 6% question to answer rate we saw before, so this makes it worth studying old questions, as you probably can't get a 70% hit rate anywhere else."
   ]
  },
  {
   "cell_type": "markdown",
   "metadata": {},
   "source": [
    "## In Terms of Value\n",
    "Let's say now we only want to focus on high valued questions, which makes sense. This can help us earn more money. We can figure out which terms correspond to high-valued questions with a chi-squared test. The categories we need are:\n",
    "* Low value: less than or \\$800\n",
    "* High value: more than \\$800\n",
    "\n",
    "We can use the terms_used from above and find the words with the biggest difference in usage between the two categories, and naturally focus on studying the high valued ones."
   ]
  },
  {
   "cell_type": "code",
   "execution_count": 13,
   "metadata": {
    "collapsed": true
   },
   "outputs": [],
   "source": [
    "# create function to return value\n",
    "def determine_value(row):\n",
    "    value = 0\n",
    "    if row[\"clean_value\"] > 800:\n",
    "        value = 1\n",
    "    return value"
   ]
  },
  {
   "cell_type": "code",
   "execution_count": 14,
   "metadata": {
    "collapsed": false
   },
   "outputs": [
    {
     "data": {
      "text/html": [
       "<div>\n",
       "<style scoped>\n",
       "    .dataframe tbody tr th:only-of-type {\n",
       "        vertical-align: middle;\n",
       "    }\n",
       "\n",
       "    .dataframe tbody tr th {\n",
       "        vertical-align: top;\n",
       "    }\n",
       "\n",
       "    .dataframe thead th {\n",
       "        text-align: right;\n",
       "    }\n",
       "</style>\n",
       "<table border=\"1\" class=\"dataframe\">\n",
       "  <thead>\n",
       "    <tr style=\"text-align: right;\">\n",
       "      <th></th>\n",
       "      <th>Show Number</th>\n",
       "      <th>Air Date</th>\n",
       "      <th>Round</th>\n",
       "      <th>Category</th>\n",
       "      <th>Value</th>\n",
       "      <th>Question</th>\n",
       "      <th>Answer</th>\n",
       "      <th>clean_question</th>\n",
       "      <th>clean_answer</th>\n",
       "      <th>clean_value</th>\n",
       "      <th>answer_in_question</th>\n",
       "      <th>question_overlap</th>\n",
       "      <th>high_value</th>\n",
       "    </tr>\n",
       "  </thead>\n",
       "  <tbody>\n",
       "    <tr>\n",
       "      <th>0</th>\n",
       "      <td>4680</td>\n",
       "      <td>2004-12-31</td>\n",
       "      <td>Jeopardy!</td>\n",
       "      <td>HISTORY</td>\n",
       "      <td>$200</td>\n",
       "      <td>For the last 8 years of his life, Galileo was ...</td>\n",
       "      <td>Copernicus</td>\n",
       "      <td>for the last 8 years of his life galileo was u...</td>\n",
       "      <td>copernicus</td>\n",
       "      <td>200</td>\n",
       "      <td>0.0</td>\n",
       "      <td>0.0</td>\n",
       "      <td>0</td>\n",
       "    </tr>\n",
       "    <tr>\n",
       "      <th>1</th>\n",
       "      <td>4680</td>\n",
       "      <td>2004-12-31</td>\n",
       "      <td>Jeopardy!</td>\n",
       "      <td>ESPN's TOP 10 ALL-TIME ATHLETES</td>\n",
       "      <td>$200</td>\n",
       "      <td>No. 2: 1912 Olympian; football star at Carlisl...</td>\n",
       "      <td>Jim Thorpe</td>\n",
       "      <td>no 2 1912 olympian football star at carlisle i...</td>\n",
       "      <td>jim thorpe</td>\n",
       "      <td>200</td>\n",
       "      <td>0.0</td>\n",
       "      <td>0.0</td>\n",
       "      <td>0</td>\n",
       "    </tr>\n",
       "    <tr>\n",
       "      <th>2</th>\n",
       "      <td>4680</td>\n",
       "      <td>2004-12-31</td>\n",
       "      <td>Jeopardy!</td>\n",
       "      <td>EVERYBODY TALKS ABOUT IT...</td>\n",
       "      <td>$200</td>\n",
       "      <td>The city of Yuma in this state has a record av...</td>\n",
       "      <td>Arizona</td>\n",
       "      <td>the city of yuma in this state has a record av...</td>\n",
       "      <td>arizona</td>\n",
       "      <td>200</td>\n",
       "      <td>0.0</td>\n",
       "      <td>0.0</td>\n",
       "      <td>0</td>\n",
       "    </tr>\n",
       "    <tr>\n",
       "      <th>3</th>\n",
       "      <td>4680</td>\n",
       "      <td>2004-12-31</td>\n",
       "      <td>Jeopardy!</td>\n",
       "      <td>THE COMPANY LINE</td>\n",
       "      <td>$200</td>\n",
       "      <td>In 1963, live on \"The Art Linkletter Show\", th...</td>\n",
       "      <td>McDonald's</td>\n",
       "      <td>in 1963 live on the art linkletter show this c...</td>\n",
       "      <td>mcdonalds</td>\n",
       "      <td>200</td>\n",
       "      <td>0.0</td>\n",
       "      <td>0.0</td>\n",
       "      <td>0</td>\n",
       "    </tr>\n",
       "    <tr>\n",
       "      <th>4</th>\n",
       "      <td>4680</td>\n",
       "      <td>2004-12-31</td>\n",
       "      <td>Jeopardy!</td>\n",
       "      <td>EPITAPHS &amp; TRIBUTES</td>\n",
       "      <td>$200</td>\n",
       "      <td>Signer of the Dec. of Indep., framer of the Co...</td>\n",
       "      <td>John Adams</td>\n",
       "      <td>signer of the dec of indep framer of the const...</td>\n",
       "      <td>john adams</td>\n",
       "      <td>200</td>\n",
       "      <td>0.0</td>\n",
       "      <td>0.0</td>\n",
       "      <td>0</td>\n",
       "    </tr>\n",
       "  </tbody>\n",
       "</table>\n",
       "</div>"
      ],
      "text/plain": [
       "   Show Number   Air Date      Round                         Category Value  \\\n",
       "0         4680 2004-12-31  Jeopardy!                          HISTORY  $200   \n",
       "1         4680 2004-12-31  Jeopardy!  ESPN's TOP 10 ALL-TIME ATHLETES  $200   \n",
       "2         4680 2004-12-31  Jeopardy!      EVERYBODY TALKS ABOUT IT...  $200   \n",
       "3         4680 2004-12-31  Jeopardy!                 THE COMPANY LINE  $200   \n",
       "4         4680 2004-12-31  Jeopardy!              EPITAPHS & TRIBUTES  $200   \n",
       "\n",
       "                                            Question      Answer  \\\n",
       "0  For the last 8 years of his life, Galileo was ...  Copernicus   \n",
       "1  No. 2: 1912 Olympian; football star at Carlisl...  Jim Thorpe   \n",
       "2  The city of Yuma in this state has a record av...     Arizona   \n",
       "3  In 1963, live on \"The Art Linkletter Show\", th...  McDonald's   \n",
       "4  Signer of the Dec. of Indep., framer of the Co...  John Adams   \n",
       "\n",
       "                                      clean_question clean_answer  \\\n",
       "0  for the last 8 years of his life galileo was u...   copernicus   \n",
       "1  no 2 1912 olympian football star at carlisle i...   jim thorpe   \n",
       "2  the city of yuma in this state has a record av...      arizona   \n",
       "3  in 1963 live on the art linkletter show this c...    mcdonalds   \n",
       "4  signer of the dec of indep framer of the const...   john adams   \n",
       "\n",
       "   clean_value  answer_in_question  question_overlap  high_value  \n",
       "0          200                 0.0               0.0           0  \n",
       "1          200                 0.0               0.0           0  \n",
       "2          200                 0.0               0.0           0  \n",
       "3          200                 0.0               0.0           0  \n",
       "4          200                 0.0               0.0           0  "
      ]
     },
     "execution_count": 14,
     "metadata": {},
     "output_type": "execute_result"
    }
   ],
   "source": [
    "# apply the function\n",
    "jeopardy[\"high_value\"] = jeopardy.apply(determine_value, axis = 1)\n",
    "\n",
    "# see results\n",
    "jeopardy.head()"
   ]
  },
  {
   "cell_type": "code",
   "execution_count": 15,
   "metadata": {
    "collapsed": true
   },
   "outputs": [],
   "source": [
    "# create function to find high and low usage\n",
    "def count_usage(term):\n",
    "    low_count = 0\n",
    "    high_count = 0\n",
    "    for i, row in jeopardy.iterrows():\n",
    "        if term in row[\"clean_question\"].split(\" \"):\n",
    "            if row[\"high_value\"] == 1:\n",
    "                high_count += 1\n",
    "            else:\n",
    "                low_count += 1\n",
    "    return high_count, low_count"
   ]
  },
  {
   "cell_type": "code",
   "execution_count": 16,
   "metadata": {
    "collapsed": false
   },
   "outputs": [
    {
     "data": {
      "text/plain": [
       "[(1, 2), (2, 1), (1, 0), (0, 1), (1, 1)]"
      ]
     },
     "execution_count": 16,
     "metadata": {},
     "output_type": "execute_result"
    }
   ],
   "source": [
    "# empty list\n",
    "observed_expected = []\n",
    "# convert terms_used to a list and get first 5 items\n",
    "comparison_terms = list(terms_used)[:5]\n",
    "\n",
    "# loop through the terms\n",
    "for term in comparison_terms:\n",
    "    observed_expected.append(count_usage(term))\n",
    "    \n",
    "# display results\n",
    "observed_expected"
   ]
  },
  {
   "cell_type": "markdown",
   "metadata": {},
   "source": [
    "Notice that we only used the first 5 items in the new terms_used list to save time as this step takes a while to run for all terms. The main gist is the same if we wanted to use all the terms."
   ]
  },
  {
   "cell_type": "markdown",
   "metadata": {},
   "source": [
    "## Calculating Chi-Squared\n",
    "Now we can actually see the chi-squared results using everything we've written so far:"
   ]
  },
  {
   "cell_type": "code",
   "execution_count": 17,
   "metadata": {
    "collapsed": false
   },
   "outputs": [
    {
     "data": {
      "text/plain": [
       "[Power_divergenceResult(statistic=0.03188116723440362, pvalue=0.8582887163235293),\n",
       " Power_divergenceResult(statistic=2.1177104383031944, pvalue=0.14560406868264344),\n",
       " Power_divergenceResult(statistic=2.487792117195675, pvalue=0.11473257634454047),\n",
       " Power_divergenceResult(statistic=0.401962846126884, pvalue=0.5260772985705469),\n",
       " Power_divergenceResult(statistic=0.4448774816612795, pvalue=0.5047776487545996)]"
      ]
     },
     "execution_count": 17,
     "metadata": {},
     "output_type": "execute_result"
    }
   ],
   "source": [
    "# get necessary modules\n",
    "from scipy.stats import chisquare\n",
    "import numpy as np\n",
    "\n",
    "# get high and low counts\n",
    "high_value_count = jeopardy[jeopardy[\"high_value\"] == 1].shape[0]\n",
    "low_value_count = jeopardy[jeopardy[\"high_value\"] == 0].shape[0]\n",
    "\n",
    "# empty chi-squared\n",
    "chi_squared = []\n",
    "# perform the analysis\n",
    "for obs in observed_expected:\n",
    "    total = sum(obs)  # total of the counts \n",
    "    total_prop = total / jeopardy.shape[0]  # get the proportion\n",
    "    \n",
    "    # expected values\n",
    "    high_exp = total_prop * high_value_count\n",
    "    low_exp = total_prop * low_value_count\n",
    "    \n",
    "    # make arrays\n",
    "    observed = np.array([obs[0], obs[1]])\n",
    "    expected = np.array([high_exp, low_exp])\n",
    "    \n",
    "    # chi-sq\n",
    "    chi_squared.append(chisquare(observed, expected))\n",
    "    \n",
    "# display results\n",
    "chi_squared"
   ]
  },
  {
   "cell_type": "code",
   "execution_count": 18,
   "metadata": {
    "collapsed": false
   },
   "outputs": [
    {
     "data": {
      "text/plain": [
       "['influential', 'chiricahua', 'assured', 'targetblankmaska', 'defines']"
      ]
     },
     "execution_count": 18,
     "metadata": {},
     "output_type": "execute_result"
    }
   ],
   "source": [
    "# see the terms again\n",
    "comparison_terms"
   ]
  },
  {
   "cell_type": "markdown",
   "metadata": {},
   "source": [
    "The p-values indicate little to no value in high vs low usage. However, we only did this quickly for the comparison terms of five terms, and see that all terms had a very low frequency count of under 10 total. At best, the chi-squared test probably isn't very valid here, but it is still good practice.\n",
    "\n",
    "It would be better to run this test with only terms that have higher frequencies. Doing so would not only produce better results and give us actual meaningful data on what to study more efficiently, but also eliminate some time in calculations as well so we don't have to keep using samples."
   ]
  },
  {
   "cell_type": "markdown",
   "metadata": {},
   "source": [
    "## Further Analysis / Next Steps\n",
    "## Frequencies\n",
    "Here we do what we described just now above and use the chi-squared test only across terms with high frequencies. We re-do our comparison terms, and run the code again to see what differences we can find (hopefully larger differences)."
   ]
  },
  {
   "cell_type": "code",
   "execution_count": 19,
   "metadata": {
    "collapsed": false
   },
   "outputs": [
    {
     "data": {
      "text/plain": [
       "[(4, 24), (13, 47), (77, 212)]"
      ]
     },
     "execution_count": 19,
     "metadata": {},
     "output_type": "execute_result"
    }
   ],
   "source": [
    "# empty list\n",
    "observed_expected = []\n",
    "# convert terms_used to a list and get first 100 terms\n",
    "comparison_terms = list(terms_used)[:100]\n",
    "\n",
    "# loop through the terms\n",
    "for term in comparison_terms:\n",
    "    usage = count_usage(term)\n",
    "    if sum(usage) > 20: \n",
    "        observed_expected.append(usage)\n",
    "    \n",
    "# display results\n",
    "observed_expected"
   ]
  },
  {
   "cell_type": "markdown",
   "metadata": {
    "collapsed": true
   },
   "source": [
    "As we can see, we took 100 elements this time instead of just 5, and still only returned 3 terms with a high frequency. We'll use these for now, but it's safe to assume the list of terms are very broad and not used frequently.\n",
    "\n",
    "(Note: The previous cell takes a while to run.)"
   ]
  },
  {
   "cell_type": "code",
   "execution_count": 21,
   "metadata": {
    "collapsed": false
   },
   "outputs": [
    {
     "data": {
      "text/plain": [
       "[Power_divergenceResult(statistic=0.9957444564014047, pvalue=0.3183424205069737),\n",
       " Power_divergenceResult(statistic=0.00027385366262769215, pvalue=0.9867967904367213),\n",
       " Power_divergenceResult(statistic=0.18455103159085381, pvalue=0.6674909797518206)]"
      ]
     },
     "execution_count": 21,
     "metadata": {},
     "output_type": "execute_result"
    }
   ],
   "source": [
    "# empty chi-squared\n",
    "chi_squared = []\n",
    "# perform the analysis\n",
    "for obs in observed_expected:\n",
    "    total = sum(obs)  # total of the counts \n",
    "    total_prop = total / jeopardy.shape[0]  # get the proportion\n",
    "    \n",
    "    # expected values\n",
    "    high_exp = total_prop * high_value_count\n",
    "    low_exp = total_prop * low_value_count\n",
    "    \n",
    "    # make arrays\n",
    "    observed = np.array([obs[0], obs[1]])\n",
    "    expected = np.array([high_exp, low_exp])\n",
    "    \n",
    "    # chi-sq\n",
    "    chi_squared.append(chisquare(observed, expected))\n",
    "    \n",
    "# display results\n",
    "chi_squared"
   ]
  },
  {
   "cell_type": "markdown",
   "metadata": {},
   "source": [
    "It doesn't really matter what the terms are at this point, because we can see that there really isn't a correlation for these high frequency terms in the chi-square. Again, there were only three such high frequemcy terms, and even these weren't THAT high, so we'll probably need to use something other than a chi-squared test in the future.\n",
    "\n",
    "However, it was easy to see what changing the range of our sample can do, and different ways to do so such as only choosing a certain number of comparison terms for observed/expected results.\n",
    "\n",
    "Another way to do this would be to improve the speed of the calculation functions in order to include the entire term set instead of just a sample for more accurate numbers."
   ]
  },
  {
   "cell_type": "markdown",
   "metadata": {},
   "source": [
    "## Eliminating Words\n",
    "We chose \"complex\" words that were over 6 characters long to eliminate in our preliminary cleanup for the question overlapping column, but we can do better than this. There are a few ways other than hard-coding a character limit, including:\n",
    "* manually making a list of words to remove\n",
    "* finding a list of words to remove\n",
    "* remove words that occur in more than a percentage of questions (such as 5%) as they are just noise at this point\n",
    "\n",
    "The first two options are as simple as just making a list or finding one with common words, and then just seeing if your split list terms are in that list. The third one is a little bit more involved, and is good because it will get rid of high percentage words that are not really common, but still probably don't really hold that much weight, like \"count\"; doesn't really have much context.\n",
    "\n",
    "There are also terms such as 'hrefhttpwwwjarchivecommedia20071106dj25jpg' which is probably the result of poor formatting in the question columns, which can easily be worked around by seeing if 'jpg' is in the term at all, for example. \n",
    "\n",
    "We work with the jpg elimination below."
   ]
  },
  {
   "cell_type": "code",
   "execution_count": 31,
   "metadata": {
    "collapsed": false
   },
   "outputs": [
    {
     "data": {
      "text/plain": [
       "0.6975454160738909"
      ]
     },
     "execution_count": 31,
     "metadata": {},
     "output_type": "execute_result"
    }
   ],
   "source": [
    "# empty list and set\n",
    "question_overlap = []\n",
    "terms_used = set()\n",
    "\n",
    "# iterate rows, splitting question\n",
    "for i, row in jeopardy.iterrows():\n",
    "    split_question = row[\"clean_question\"].split(\" \")\n",
    "    split_question = [q for q in split_question if len(q) > 5]\n",
    "    split_question = [q for q in split_question if q.find(\"jpg\") == -1]\n",
    "    match_count = 0\n",
    "    # iterate words in question, setting matches\n",
    "    for word in split_question:\n",
    "        if word in terms_used:\n",
    "            match_count += 1\n",
    "        terms_used.add(word)\n",
    "    # set match count and append\n",
    "    if len(split_question) > 0:\n",
    "        match_count /= len(split_question)\n",
    "    question_overlap.append(match_count)\n",
    "\n",
    "# create new column \n",
    "jeopardy[\"question_overlap\"] = question_overlap\n",
    "\n",
    "# display the mean to see results\n",
    "jeopardy[\"question_overlap\"].mean()   "
   ]
  },
  {
   "cell_type": "markdown",
   "metadata": {},
   "source": [
    "## Category Column\n",
    "The category column poses some interesting questions to answer, and perhaps we can look at things like which categories appear the most often and finding out the probability of each category appearing in each round."
   ]
  },
  {
   "cell_type": "code",
   "execution_count": 32,
   "metadata": {
    "collapsed": false
   },
   "outputs": [
    {
     "data": {
      "text/plain": [
       "TELEVISION                          51\n",
       "U.S. GEOGRAPHY                      50\n",
       "LITERATURE                          45\n",
       "BEFORE & AFTER                      40\n",
       "HISTORY                             40\n",
       "AMERICAN HISTORY                    40\n",
       "AUTHORS                             39\n",
       "WORD ORIGINS                        38\n",
       "WORLD CAPITALS                      37\n",
       "BODIES OF WATER                     36\n",
       "SPORTS                              36\n",
       "SCIENCE & NATURE                    35\n",
       "SCIENCE                             35\n",
       "MAGAZINES                           35\n",
       "RHYME TIME                          35\n",
       "WORLD GEOGRAPHY                     33\n",
       "HISTORIC NAMES                      32\n",
       "WORLD HISTORY                       32\n",
       "ANNUAL EVENTS                       32\n",
       "IN THE DICTIONARY                   31\n",
       "BIRDS                               31\n",
       "FICTIONAL CHARACTERS                31\n",
       "POTPOURRI                           30\n",
       "ISLANDS                             30\n",
       "OPERA                               30\n",
       "TRAVEL & TOURISM                    30\n",
       "U.S. PRESIDENTS                     30\n",
       "MEDICINE                            30\n",
       "BALLET                              29\n",
       "ART                                 28\n",
       "                                    ..\n",
       "SHAKESPEAREAN TRAGEDY CHARACTERS     1\n",
       "GEOGRAPHIC NICKNAMES                 1\n",
       "20th CENTURY NOTABLES                1\n",
       "TRANSPORTATION INNOVATIONS           1\n",
       "MOVIES & DANCE                       1\n",
       "AMERICAN POLITICIANS                 1\n",
       "BEATLES MUSIC                        1\n",
       "ARBOREAL MAMMALS                     1\n",
       "POLITICAL PARTIES                    1\n",
       "ARTISTIC MASTERPIECES                1\n",
       "20th CENTURY ATHLETES                1\n",
       "1940s MUSIC HISTORY                  1\n",
       "U.S. RIVERS                          1\n",
       "CHILDREN'S AUTHORS                   1\n",
       "MONARCHS                             1\n",
       "HISTORIC HEADLINES                   1\n",
       "HOLLYWOOD DOGS                       1\n",
       "THE WORLD OF ART                     1\n",
       "BOOK TITLES                          1\n",
       "OUR LIVING PLANET                    1\n",
       "20th CENTURY WORDS                   1\n",
       "U.S. LANDMARKS                       1\n",
       "19th CENTURY POLITICIANS             1\n",
       "ARLINGTON'S TOMB OF UNKNOWNS         1\n",
       "NONFICTION AUTHORS                   1\n",
       "BRITISH AUTHORS                      1\n",
       "THE SPACE RACE                       1\n",
       "SANE SCIENTISTS                      1\n",
       "HALLOWEEN ON FILM                    1\n",
       "AFTER THE PRESIDENCY                 1\n",
       "Name: Category, Length: 3581, dtype: int64"
      ]
     },
     "execution_count": 32,
     "metadata": {},
     "output_type": "execute_result"
    }
   ],
   "source": [
    "# get value counts\n",
    "jeopardy[\"Category\"].value_counts()"
   ]
  },
  {
   "cell_type": "markdown",
   "metadata": {},
   "source": [
    "There's a bunch of categories, and a lot of which only appear once, so let's take the top 20 as an example."
   ]
  },
  {
   "cell_type": "code",
   "execution_count": 37,
   "metadata": {
    "collapsed": false
   },
   "outputs": [
    {
     "data": {
      "text/plain": [
       "TELEVISION           51\n",
       "U.S. GEOGRAPHY       50\n",
       "LITERATURE           45\n",
       "BEFORE & AFTER       40\n",
       "HISTORY              40\n",
       "AMERICAN HISTORY     40\n",
       "AUTHORS              39\n",
       "WORD ORIGINS         38\n",
       "WORLD CAPITALS       37\n",
       "BODIES OF WATER      36\n",
       "SPORTS               36\n",
       "SCIENCE & NATURE     35\n",
       "SCIENCE              35\n",
       "MAGAZINES            35\n",
       "RHYME TIME           35\n",
       "WORLD GEOGRAPHY      33\n",
       "HISTORIC NAMES       32\n",
       "WORLD HISTORY        32\n",
       "ANNUAL EVENTS        32\n",
       "IN THE DICTIONARY    31\n",
       "Name: Category, dtype: int64"
      ]
     },
     "execution_count": 37,
     "metadata": {},
     "output_type": "execute_result"
    }
   ],
   "source": [
    "# get top 20 and display\n",
    "cats = jeopardy[\"Category\"].value_counts(ascending = False)[:20]\n",
    "cats"
   ]
  },
  {
   "cell_type": "code",
   "execution_count": 46,
   "metadata": {
    "collapsed": false
   },
   "outputs": [
    {
     "data": {
      "text/plain": [
       "Jeopardy!           9901\n",
       "Double Jeopardy!    9762\n",
       "Final Jeopardy!      335\n",
       "Tiebreaker             1\n",
       "Name: Round, dtype: int64"
      ]
     },
     "execution_count": 46,
     "metadata": {},
     "output_type": "execute_result"
    }
   ],
   "source": [
    "# see different rounds\n",
    "jeopardy[\"Round\"].value_counts()"
   ]
  },
  {
   "cell_type": "code",
   "execution_count": 49,
   "metadata": {
    "collapsed": false
   },
   "outputs": [
    {
     "ename": "AttributeError",
     "evalue": "'builtin_function_or_method' object has no attribute 'tolist'",
     "output_type": "error",
     "traceback": [
      "\u001b[1;31m\u001b[0m",
      "\u001b[1;31mAttributeError\u001b[0mTraceback (most recent call last)",
      "\u001b[1;32m<ipython-input-49-d935db858631>\u001b[0m in \u001b[0;36m<module>\u001b[1;34m()\u001b[0m\n\u001b[0;32m      1\u001b[0m \u001b[1;31m# make lists\u001b[0m\u001b[1;33m\u001b[0m\u001b[1;33m\u001b[0m\u001b[0m\n\u001b[0;32m      2\u001b[0m \u001b[0mrounds\u001b[0m \u001b[1;33m=\u001b[0m \u001b[0mjeopardy\u001b[0m\u001b[1;33m[\u001b[0m\u001b[1;34m\"Round\"\u001b[0m\u001b[1;33m]\u001b[0m\u001b[1;33m.\u001b[0m\u001b[0mvalue_counts\u001b[0m\u001b[1;33m(\u001b[0m\u001b[1;33m)\u001b[0m\u001b[1;33m.\u001b[0m\u001b[0mindex\u001b[0m\u001b[1;33m.\u001b[0m\u001b[0mtolist\u001b[0m\u001b[1;33m(\u001b[0m\u001b[1;33m)\u001b[0m\u001b[1;33m\u001b[0m\u001b[0m\n\u001b[1;32m----> 3\u001b[1;33m \u001b[0mcats\u001b[0m \u001b[1;33m=\u001b[0m \u001b[0mcats\u001b[0m\u001b[1;33m.\u001b[0m\u001b[0mindex\u001b[0m\u001b[1;33m.\u001b[0m\u001b[0mtolist\u001b[0m\u001b[1;33m(\u001b[0m\u001b[1;33m)\u001b[0m\u001b[1;33m\u001b[0m\u001b[0m\n\u001b[0m",
      "\u001b[1;31mAttributeError\u001b[0m: 'builtin_function_or_method' object has no attribute 'tolist'"
     ]
    }
   ],
   "source": [
    "# make lists\n",
    "rounds = jeopardy[\"Round\"].value_counts().index.tolist()\n",
    "cats = cats.index.tolist()"
   ]
  },
  {
   "cell_type": "code",
   "execution_count": 50,
   "metadata": {
    "collapsed": false
   },
   "outputs": [
    {
     "data": {
      "text/plain": [
       "{'AMERICAN HISTORY': 0.05,\n",
       " 'ANNUAL EVENTS': 0.0,\n",
       " 'AUTHORS': 0.10256410256410256,\n",
       " 'BEFORE & AFTER': 0.0,\n",
       " 'BODIES OF WATER': 0.027777777777777776,\n",
       " 'HISTORIC NAMES': 0.0625,\n",
       " 'HISTORY': 0.0,\n",
       " 'IN THE DICTIONARY': 0.03225806451612903,\n",
       " 'LITERATURE': 0.0,\n",
       " 'MAGAZINES': 0.0,\n",
       " 'RHYME TIME': 0.0,\n",
       " 'SCIENCE': 0.0,\n",
       " 'SCIENCE & NATURE': 0.0,\n",
       " 'SPORTS': 0.0,\n",
       " 'TELEVISION': 0.0196078431372549,\n",
       " 'U.S. GEOGRAPHY': 0.0,\n",
       " 'WORD ORIGINS': 0.21052631578947367,\n",
       " 'WORLD CAPITALS': 0.05405405405405406,\n",
       " 'WORLD GEOGRAPHY': 0.09090909090909091,\n",
       " 'WORLD HISTORY': 0.0625}"
      ]
     },
     "execution_count": 50,
     "metadata": {},
     "output_type": "execute_result"
    }
   ],
   "source": [
    "# get probabilities\n",
    "prob_final_jpy = {}\n",
    "for cat in cats:\n",
    "    jpy = jeopardy[jeopardy[\"Category\"] == cat]\n",
    "    count_total = len(jpy)\n",
    "    jpy2 = jpy[jpy[\"Round\"] == \"Final Jeopardy!\"]\n",
    "    count = len(jpy2)\n",
    "    prob = count / count_total\n",
    "    prob_final_jpy[cat] = prob\n",
    "    \n",
    "# see final jeopardy probabilities\n",
    "prob_final_jpy"
   ]
  },
  {
   "cell_type": "code",
   "execution_count": 52,
   "metadata": {
    "collapsed": false
   },
   "outputs": [
    {
     "data": {
      "text/plain": [
       "0.016750837541877093"
      ]
     },
     "execution_count": 52,
     "metadata": {},
     "output_type": "execute_result"
    }
   ],
   "source": [
    "# final jeopardy proportion\n",
    "final_jpy_prop = 335/19999\n",
    "final_jpy_prop"
   ]
  },
  {
   "cell_type": "markdown",
   "metadata": {},
   "source": [
    "Above is just one example of how probability analysis could work. As we can see, studying different things for final jeopardy vs. not final jeopardy could make a lot of sense. While the category 'Word Origins' appears in the top 10 list of most frequent categories, over 20% of the time it is involved in final jeopardy.\n",
    "\n",
    "We can see that final jeopardy only accounts for less than 2% of total questions, so if we were focusing on the first rounds of jeopardy to get going, we will probably not want to include word origins in our study list.\n",
    "\n",
    "Examples like this are very useful when doing analysis and it is clear we probably can't see things like this just from looking at the table initially, or just from lookin at value counts by themselves."
   ]
  },
  {
   "cell_type": "markdown",
   "metadata": {},
   "source": [
    "## More Questions/Data\n",
    "We can download the complete dataset of all 200000+ questions from the link: https://www.reddit.com/r/datasets/comments/1uyd0t/200000_jeopardy_questions_in_a_json_file/.\n",
    "\n",
    "The analysis will more or less be the same in terms of process if we use this complete dataset, which is why we used a sample of 20000 in the first place. It will produce more accurate results obviously, so this should be done for research purposes, but for the sake of redundancy the process will not be repeated here. The process itself will take a lot longer due to the increased sized csv, but we can ultimately just re-run the cells for the most part if we replace the csv read in."
   ]
  },
  {
   "cell_type": "markdown",
   "metadata": {},
   "source": [
    "## Phrases for Overlapping\n",
    "Lastly, we can use phrases instead of single words when seeing if there's overlap between questions. Single words, like we said, don't really capture the whole context, and phrases can work much better (\"Greece soccer\" or \"Greece debt\" provides a whole lot more context than just \"Greece\").\n",
    "\n",
    "There isn't really a perfect way to do this, and finding the perfect way to split questions into meaningful phrases could take a bit of work. \n",
    "\n",
    "The best and easiest way would probably be to use a manual list again, of well-known phrases in jeopardy. We can match this list to a first half of the air date dataset, and then again to the second half, to see if they correlate at all. If so, studying past questions is the way to go! \n",
    "\n",
    "Another way to do this would be to split the questions using the \" \" space delimiter again, but then halve the list so that we take every other space instead, resulting in lists of two words. We can increase this to three, four, etc. words as needed, and then just re-do the analysis from earlier to see their overlapping percentage. The problem with this is that sometimes the 2-3-4 word combinations can be utterly meaningless and more confusing than just each word by themselves, which poses another problem.\n",
    "\n",
    "It's best to not create more problems by attempting to solve problems, so using a manual list with a few key phrases is best. If we wanted to study American History, for example, we could include a list of phrases like \"electoral college\" in a set to see how many times it gets triggered in the match_count variable. We don't have to split the question for this, but rather use the find substring method. \n",
    "\n",
    "If again we see the question overlapping being high, we can assume our list of phrases work and can begin studying American History by its category from old questions!"
   ]
  },
  {
   "cell_type": "markdown",
   "metadata": {},
   "source": [
    "## Conclusion\n",
    "There were a lot of ideas presented in this small project about jeopardy, but it's easy to say that if there was a secret sauce, it would've already been exposed! We obviously saw that we can't just rely on the answers being within the questions themselves, and that the best way to win is to study questions (duh).\n",
    "\n",
    "While there are numerous categories and questions, and therefore numerous ways to study, we found a few reasons to believe that some ways are probably more effective than others.\n",
    "\n",
    "For one, studying past questions to get prepared for new ones seems to be a good idea, as questions seem like they are never completely unique in most cases. \n",
    "\n",
    "While it looked like there was not really a point in studying \"high valued\" questions due to our chi-squared analysis, the fact that chi-square doesn't really work well here leads us with an otherwise optimistic inconclusive conclusion. \n",
    "\n",
    "We also found that studying for particular parts of the game could be better suited to different categories. If you wanted to just bank on winning final jeopardy, for example, focusing a lot on studying word origins may be beneficial. We can probably use this same probability analysis on high and low value options too instead of using chi-square, if you wanted to focus on getting the most money (on a second read-through of this project, this was probably a good idea - and a cell following this conclusion will show an example of it).\n",
    "\n",
    "All in all, depending on where your strengths and weaknesses are, the main conclusion here is that each area can be worked on differently and we can find different areas to study accordingly. This was all by hand though! In projects following this one, hopefully I will finally begin incorporating some automation to this process and work more with some machine learning.\n",
    "\n",
    "That means that data science will be a focus from now on, instead of simply data analysis, as there are now enough projects to go about analysis. Thanks for sticking around! And good luck as well if you are following along."
   ]
  },
  {
   "cell_type": "code",
   "execution_count": 55,
   "metadata": {
    "collapsed": false
   },
   "outputs": [
    {
     "data": {
      "text/plain": [
       "{'AMERICAN HISTORY': 0.3,\n",
       " 'ANNUAL EVENTS': 0.21875,\n",
       " 'AUTHORS': 0.15384615384615385,\n",
       " 'BEFORE & AFTER': 0.475,\n",
       " 'BODIES OF WATER': 0.1388888888888889,\n",
       " 'HISTORIC NAMES': 0.3125,\n",
       " 'HISTORY': 0.175,\n",
       " 'IN THE DICTIONARY': 0.5161290322580645,\n",
       " 'LITERATURE': 0.28888888888888886,\n",
       " 'MAGAZINES': 0.17142857142857143,\n",
       " 'RHYME TIME': 0.2,\n",
       " 'SCIENCE': 0.42857142857142855,\n",
       " 'SCIENCE & NATURE': 0.4,\n",
       " 'SPORTS': 0.16666666666666666,\n",
       " 'TELEVISION': 0.11764705882352941,\n",
       " 'U.S. GEOGRAPHY': 0.28,\n",
       " 'WORD ORIGINS': 0.3157894736842105,\n",
       " 'WORLD CAPITALS': 0.21621621621621623,\n",
       " 'WORLD GEOGRAPHY': 0.18181818181818182,\n",
       " 'WORLD HISTORY': 0.21875}"
      ]
     },
     "execution_count": 55,
     "metadata": {},
     "output_type": "execute_result"
    }
   ],
   "source": [
    "# a probability example\n",
    "# copied code below\n",
    "# get probabilities\n",
    "prob_high_jpy = {}\n",
    "for cat in cats:\n",
    "    jpy = jeopardy[jeopardy[\"Category\"] == cat]\n",
    "    count_total = len(jpy)\n",
    "    jpy2 = jpy[jpy[\"high_value\"] == 1]\n",
    "    count = len(jpy2)\n",
    "    prob = count / count_total\n",
    "    prob_high_jpy[cat] = prob\n",
    "    \n",
    "# see final jeopardy probabilities\n",
    "prob_high_jpy"
   ]
  },
  {
   "cell_type": "markdown",
   "metadata": {},
   "source": [
    "Footnote: we can see of all the high count categories, categories like 'in the dictionary' have over half their questions as high valued ones. While this isn't a sure way to get all the high value questions, it's a start. If you like money, go here!"
   ]
  }
 ],
 "metadata": {
  "kernelspec": {
   "display_name": "Python 3",
   "language": "python",
   "name": "python3"
  },
  "language_info": {
   "codemirror_mode": {
    "name": "ipython",
    "version": 3
   },
   "file_extension": ".py",
   "mimetype": "text/x-python",
   "name": "python",
   "nbconvert_exporter": "python",
   "pygments_lexer": "ipython3",
   "version": "3.4.3"
  }
 },
 "nbformat": 4,
 "nbformat_minor": 0
}
